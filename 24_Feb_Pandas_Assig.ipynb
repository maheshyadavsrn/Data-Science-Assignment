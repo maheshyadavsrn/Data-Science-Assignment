{
 "cells": [
  {
   "cell_type": "code",
   "execution_count": null,
   "id": "7065226f-b303-4046-be38-7bfe572de7bb",
   "metadata": {},
   "outputs": [],
   "source": [
    "#Q1. List any five functions of the pandas library with execution.\n",
    "\"\"\"1.pandas.DataFrame: This function creates a DataFrame, which is a two-dimensional tabular data structure with labeled axes (rows and columns).\"\"\"\n",
    "\n",
    "import pandas as pd\n",
    "\n",
    "# Creating a DataFrame from a dictionary\n",
    "data = {'Name': ['Alice', 'Bob', 'Charlie'],\n",
    "        'Age': [25, 30, 35],\n",
    "        'City': ['New York', 'London', 'Paris']}\n",
    "\n",
    "df = pd.DataFrame(data)\n",
    "print(df)\n",
    "\n",
    "\"\"\"2.pandas.Series: This function creates a one-dimensional labeled array, which can hold various data types like integers, strings, etc.\"\"\"\n",
    "import pandas as pd\n",
    "\n",
    "# Creating a Series from a list\n",
    "data = [10, 20, 30, 40, 50]\n",
    "series = pd.Series(data)\n",
    "print(series)\n",
    "\n",
    "\n",
    "\"\"\" 3.pandas.read_csv: This function reads a CSV (Comma Separated Values) file and creates a DataFrame.\n",
    "Suppose you have a CSV file named \"data.csv\" with the following content:\"\"\"\n",
    "\n",
    "import pandas as pd\n",
    "\n",
    "# Reading data from a CSV file and creating a DataFrame\n",
    "df = pd.read_csv('data.csv')\n",
    "print(df)\n",
    "\n",
    "\n",
    "\"\"\" 4.pandas.DataFrame.merge: This function merges two DataFrames based on a common column or index.\"\"\"\n",
    "import pandas as pd\n",
    "\n",
    "# Creating two DataFrames\n",
    "data1 = {'ID': [1, 2, 3], 'Name': ['Alice', 'Bob', 'Charlie']}\n",
    "data2 = {'ID': [2, 3, 4], 'Age': [25, 30, 35]}\n",
    "\n",
    "df1 = pd.DataFrame(data1)\n",
    "df2 = pd.DataFrame(data2)\n",
    "\n",
    "# Merging DataFrames based on the 'ID' column\n",
    "merged_df = df1.merge(df2, on='ID')\n",
    "print(merged_df)\n",
    "\n",
    "\n",
    "\"\"\" 5.pandas.DataFrame.groupby: This function is used to group rows in a DataFrame based on some criteria.\"\"\"\n",
    "import pandas as pd\n",
    "\n",
    "# Creating a DataFrame\n",
    "data = {'Name': ['Alice', 'Bob', 'Charlie', 'Alice', 'Bob'],\n",
    "        'Age': [25, 30, 35, 28, 32],\n",
    "        'City': ['New York', 'London', 'Paris', 'Sydney', 'Tokyo']}\n",
    "\n",
    "df = pd.DataFrame(data)\n",
    "\n",
    "# Grouping the DataFrame by the 'Name' column and calculating the mean of each group\n",
    "grouped_df = df.groupby('Name').mean()\n",
    "print(grouped_df)\n",
    "\n"
   ]
  },
  {
   "cell_type": "code",
   "execution_count": 3,
   "id": "49f8ea79-afa4-4db6-b7e5-970e23172277",
   "metadata": {},
   "outputs": [
    {
     "name": "stdout",
     "output_type": "stream",
     "text": [
      "    A    B     C\n",
      "1  10  100  1000\n",
      "3  20  200  2000\n",
      "5  30  300  3000\n",
      "7  40  400  4000\n"
     ]
    }
   ],
   "source": [
    "#Q2. Given a Pandas DataFrame df with columns 'A', 'B', and 'C', write a Python function to re-index the\n",
    "#    DataFrame with a new index that starts from 1 and increments by 2 for each row.\n",
    "\n",
    "import pandas as pd\n",
    "\n",
    "def reindex_dataframe_with_increment(df):\n",
    "    # Reset the index to create a new default integer index starting from 0\n",
    "    df_reset = df.reset_index(drop=True)\n",
    "\n",
    "    # Modify the index values to start from 1 and increment by 2\n",
    "    df_reset.index = df_reset.index * 2 + 1\n",
    "\n",
    "    return df_reset\n",
    "\n",
    "# Example DataFrame with columns 'A', 'B', and 'C'\n",
    "data = {'A': [10, 20, 30, 40],\n",
    "        'B': [100, 200, 300, 400],\n",
    "        'C': [1000, 2000, 3000, 4000]}\n",
    "\n",
    "df = pd.DataFrame(data)\n",
    "\n",
    "# Call the function to reindex the DataFrame with the new index\n",
    "df_reindexed = reindex_dataframe_with_increment(df)\n",
    "print(df_reindexed)\n"
   ]
  },
  {
   "cell_type": "code",
   "execution_count": 4,
   "id": "b1bec434-f495-4aa1-9eda-7f303d401d26",
   "metadata": {},
   "outputs": [
    {
     "name": "stdout",
     "output_type": "stream",
     "text": [
      "Sum of the first three values in 'Values' column: 60\n"
     ]
    }
   ],
   "source": [
    "\"\"\"Q3. You have a Pandas DataFrame df with a column named 'Values'. Write a Python function that\n",
    "iterates over the DataFrame and calculates the sum of the first three values in the 'Values' column. The\n",
    "function should print the sum to the console.\n",
    "For example, if the 'Values' column of df contains the values [10, 20, 30, 40, 50], your function should\n",
    "calculate and print the sum of the first three values, which is 60.\"\"\"\n",
    "\n",
    "import pandas as pd\n",
    "\n",
    "def calculate_sum_of_first_three(df):\n",
    "    # Initialize a variable to store the sum\n",
    "    total_sum = 0\n",
    "\n",
    "    # Iterate over the DataFrame using iterrows()\n",
    "    for index, row in df.iterrows():\n",
    "        # Check if we have already calculated the sum of the first three values\n",
    "        if index >= 3:\n",
    "            break\n",
    "\n",
    "        # Add the value to the total sum\n",
    "        total_sum += row['Values']\n",
    "\n",
    "    # Print the sum to the console\n",
    "    print(\"Sum of the first three values in 'Values' column:\", total_sum)\n",
    "\n",
    "# Example DataFrame with 'Values' column\n",
    "data = {'Values': [10, 20, 30, 40, 50]}\n",
    "df = pd.DataFrame(data)\n",
    "\n",
    "# Call the function to calculate the sum of the first three values\n",
    "calculate_sum_of_first_three(df)\n"
   ]
  },
  {
   "cell_type": "code",
   "execution_count": 5,
   "id": "3a80d2c7-91e6-4148-a1f0-8a49975e35e2",
   "metadata": {},
   "outputs": [
    {
     "name": "stdout",
     "output_type": "stream",
     "text": [
      "                                                Text  Word_Count\n",
      "0                             This is a sample text.           5\n",
      "1  Pandas is a powerful library for data manipula...           8\n",
      "2          Python is a popular programming language.           6\n"
     ]
    }
   ],
   "source": [
    "#Q4. Given a Pandas DataFrame df with a column 'Text', write a Python function to create a new column\n",
    "# 'Word_Count' that contains the number of words in each row of the 'Text' column.\n",
    "\n",
    "import pandas as pd\n",
    "\n",
    "def add_word_count_column(df):\n",
    "    # Define a function to count words in a text\n",
    "    def count_words(text):\n",
    "        words = text.split()\n",
    "        return len(words)\n",
    "\n",
    "    # Apply the count_words function to the 'Text' column and create a new 'Word_Count' column\n",
    "    df['Word_Count'] = df['Text'].apply(count_words)\n",
    "\n",
    "# Example DataFrame with 'Text' column\n",
    "data = {'Text': ['This is a sample text.',\n",
    "                 'Pandas is a powerful library for data manipulation.',\n",
    "                 'Python is a popular programming language.']}\n",
    "\n",
    "df = pd.DataFrame(data)\n",
    "\n",
    "# Call the function to create the 'Word_Count' column\n",
    "add_word_count_column(df)\n",
    "\n",
    "# Display the updated DataFrame\n",
    "print(df)\n"
   ]
  },
  {
   "cell_type": "code",
   "execution_count": null,
   "id": "d7d2a05d-3124-412f-9653-ad8ef86f4cff",
   "metadata": {},
   "outputs": [],
   "source": [
    "#Q5. How are DataFrame.size() and DataFrame.shape() different?\n",
    "\n",
    "\"\"\"DataFrame.size(): This function in pandas returns the total number of elements in the DataFrame. It calculates the size by multiplying the number of rows with the number of columns. The result is a single integer value representing the total number of data elements in the DataFrame.\n",
    "\n",
    "DataFrame.shape(): This function in pandas returns a tuple representing the dimensions of the DataFrame. It returns the number of rows and columns as (number of rows, number of columns). The result is a tuple with two values, where the first value represents the number of rows, and the second value represents the number of columns.\"\"\""
   ]
  },
  {
   "cell_type": "code",
   "execution_count": null,
   "id": "e1ae68af-49c8-401f-8db1-48d5eb3dda5f",
   "metadata": {},
   "outputs": [],
   "source": [
    "#Q6. Which function of pandas do we use to read an excel file?\n",
    "import pandas as pd\n",
    "\n",
    "# Read data from an Excel file and create a DataFrame\n",
    "df = pd.read_excel('file_name.xlsx')  # Replace 'file_name.xlsx' with the actual file path\n"
   ]
  },
  {
   "cell_type": "code",
   "execution_count": 7,
   "id": "595b646b-71ac-4ba4-a999-7c52069ec10e",
   "metadata": {},
   "outputs": [
    {
     "name": "stdout",
     "output_type": "stream",
     "text": [
      "              Email Username\n",
      "0  mahesh@gmail.com   mahesh\n",
      "1         jane@.com     jane\n",
      "2   yadav@gmail.com    yadav\n"
     ]
    }
   ],
   "source": [
    "\"\"\"Q7. You have a Pandas DataFrame df that contains a column named 'Email' that contains email\n",
    "addresses in the format 'username@domain.com'. Write a Python function that creates a new column\n",
    "'Username' in df that contains only the username part of each email address.\n",
    "The username is the part of the email address that appears before the '@' symbol. For example, if the\n",
    "email address is 'john.doe@example.com', the 'Username' column should contain 'john.doe'. Your\n",
    "function should extract the username from each email address and store it in the new 'Username'\n",
    "column.\"\"\"\n",
    "\n",
    "import pandas as pd\n",
    "\n",
    "def extract_username(df):\n",
    "    # Extract the username from each email address using str.split() and store it in the 'Username' column\n",
    "    df['Username'] = df['Email'].str.split('@').str[0]\n",
    "\n",
    "# Example DataFrame with 'Email' column\n",
    "data = {'Email': ['mahesh@gmail.com', 'jane@.com', 'yadav@gmail.com']}\n",
    "df = pd.DataFrame(data)\n",
    "\n",
    "# Call the function to create the 'Username' column\n",
    "extract_username(df)\n",
    "\n",
    "# Display the updated DataFrame\n",
    "print(df)\n",
    "\n"
   ]
  },
  {
   "cell_type": "code",
   "execution_count": null,
   "id": "30407929-e54d-44d8-97b5-a2b9b80dcd0d",
   "metadata": {},
   "outputs": [],
   "source": [
    "\"\"\"Q8. You have a Pandas DataFrame df with columns 'A', 'B', and 'C'. Write a Python function that selects\n",
    "all rows where the value in column 'A' is greater than 5 and the value in column 'B' is less than 10. The\n",
    "function should return a new DataFrame that contains only the selected rows.\n",
    "For example, if df contains the following values:\n",
    "A B C\n",
    "0 3 5 1\n",
    "1 8 2 7\n",
    "2 6 9 4\n",
    "3 2 3 5\n",
    "4 9 1 2\"\"\"\n",
    "\n",
    "import pandas as pd\n",
    "\n",
    "def filter_dataframe(df):\n",
    "    # Use boolean indexing to select rows where 'A' is greater than 5 and 'B' is less than 10\n",
    "    selected_rows = df[(df['A'] > 5) & (df['B'] < 10)]\n",
    "\n",
    "    return selected_rows\n",
    "\n",
    "# Example DataFrame with columns 'A', 'B', and 'C'\n",
    "data = {'A': [3, 8, 6, 2, 9],\n",
    "        'B': [5, 2, 9, 3, 1],\n",
    "        'C': [1, 7, 4, 5, 2]}\n",
    "\n",
    "df = pd.DataFrame(data)\n",
    "\n",
    "# Call the function to select the rows that meet the conditions\n",
    "selected_df = filter_dataframe(df)\n",
    "\n",
    "# Display the new DataFrame with the selected rows\n",
    "print(selected_df)\n"
   ]
  }
 ],
 "metadata": {
  "kernelspec": {
   "display_name": "Python 3 (ipykernel)",
   "language": "python",
   "name": "python3"
  },
  "language_info": {
   "codemirror_mode": {
    "name": "ipython",
    "version": 3
   },
   "file_extension": ".py",
   "mimetype": "text/x-python",
   "name": "python",
   "nbconvert_exporter": "python",
   "pygments_lexer": "ipython3",
   "version": "3.10.8"
  }
 },
 "nbformat": 4,
 "nbformat_minor": 5
}
