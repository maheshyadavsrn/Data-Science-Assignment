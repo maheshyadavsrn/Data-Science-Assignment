{
 "cells": [
  {
   "cell_type": "code",
   "execution_count": 1,
   "id": "d161b219-f81a-4b8c-b5f8-2115c475c714",
   "metadata": {},
   "outputs": [
    {
     "name": "stdout",
     "output_type": "stream",
     "text": [
      "4134711838987085478833841242112000\n"
     ]
    }
   ],
   "source": [
    "\"\"\"Q1. Create a function which will take a list as an argument and return the product of all the numbers\n",
    "after creating a flat list.\n",
    "Use the below-given list as an argument for your function.\n",
    "list1 = [1,2,3,4, [44,55,66, True], False, (34,56,78,89,34), {1,2,3,3,2,1}, {1:34, \"key2\": [55, 67, 78, 89], 4: (45,\n",
    "22, 61, 34)}, [56, 'data science'], 'Machine Learning']\"\"\"\n",
    "\n",
    "def num_list(list1):\n",
    "    product=1\n",
    "    l=[]\n",
    "    for i in list1:\n",
    "        if type(i) == int or type(i) == float:\n",
    "            product*=i\n",
    "        elif type(i) ==tuple or type(i) == list or type(i) == set:\n",
    "            product*=num_list(i)\n",
    "        elif type(i) == dict:\n",
    "            product*=num_list(i.keys())\n",
    "            product*=num_list(i.values())\n",
    "    return product\n",
    "\n",
    "l1 = [1,2,3,4, [44,55,66, True], False, (34,56,78,89,34), {1,2,3,3,2,1}, {1:34, \"key2\": [55, 67, 78, 89], 4: (45, 22, 61, 34)}, [56, 'data science'], 'Machine Learning']\n",
    "\n",
    "result = num_list(l1)\n",
    "print(result)"
   ]
  },
  {
   "cell_type": "code",
   "execution_count": 2,
   "id": "5c7922f2-812a-4813-947b-f90a61710241",
   "metadata": {},
   "outputs": [
    {
     "name": "stdout",
     "output_type": "stream",
     "text": [
      "The encrypted messsage is: r$dzmg$gl$yvxlnv$z$wzgz$hxrvmgrhg.\n"
     ]
    }
   ],
   "source": [
    "\"\"\"Q2. Write a python program for encrypting a message sent to you by your friend. The logic of encryption\n",
    "should be such that, for a the output should be z. For b, the output should be y. For c, the output should\n",
    "be x respectively. Also, the whitespace should be replaced with a dollar sign. Keep the punctuation\n",
    "marks unchanged.\n",
    "Input Sentence: I want to become a Data Scientist.\n",
    "Encrypt the above input sentence using the program you just created.\"\"\"\n",
    "def encrypt_msg(s):\n",
    "    s=s.lower()\n",
    "    message=\"\"\n",
    "    for i in s:\n",
    "        # ord() function to convert from char to ascii value\n",
    "        _ascii=ord(i)\n",
    "        x=_ascii-97\n",
    "        if i==' ':\n",
    "            message+='$'\n",
    "        elif _ascii>=97 and _ascii<=122:\n",
    "       # chr() function is used to convert from int/ascii value to char  \n",
    "            c=122-x\n",
    "            ch=chr(c)\n",
    "            message+=ch\n",
    "        else:\n",
    "            message+=i\n",
    "    return message\n",
    "    \n",
    "msg= \"I want to become a Data Scientist.\"\n",
    "encrypted_msg=encrypt_msg(msg)\n",
    "print(\"The encrypted messsage is: \"+encrypted_msg)\n"
   ]
  },
  {
   "cell_type": "code",
   "execution_count": 3,
   "id": "4cb6a7cd-c4d8-4151-a0c9-5c6fbb4bffad",
   "metadata": {},
   "outputs": [
    {
     "name": "stdout",
     "output_type": "stream",
     "text": [
      "r$dzmg$gl$yvxlnv$z$wzgz$hxrvmgrhg.\n"
     ]
    }
   ],
   "source": [
    "# Ans2 Using the ASCII value of the character \n",
    "\"\"\" using ord() and chr() function \"\"\"\n",
    "\n",
    "def Encrypt(word):\n",
    "    \n",
    "    #empty sttring to store the ouput\n",
    "    encryption = ''\n",
    "    for i in word:\n",
    "        #check space \n",
    "        if(i==' '):\n",
    "            encryption+= '$'\n",
    "            \n",
    "        elif(ord(i)>122 or ord(i)<97):\n",
    "            encryption+= i\n",
    "        elif(ord(i)<122):\n",
    "            encryption+= chr(219-ord(i))\n",
    "        \n",
    "    return encryption\n",
    "\n",
    "\n",
    "string = \"I want to become a Data Scientist.\"\n",
    "word= string.lower()\n",
    "print(Encrypt(word))"
   ]
  },
  {
   "cell_type": "code",
   "execution_count": null,
   "id": "11d7cd85-009b-4970-851b-7e9c2b1b33d7",
   "metadata": {},
   "outputs": [],
   "source": []
  }
 ],
 "metadata": {
  "kernelspec": {
   "display_name": "Python 3 (ipykernel)",
   "language": "python",
   "name": "python3"
  },
  "language_info": {
   "codemirror_mode": {
    "name": "ipython",
    "version": 3
   },
   "file_extension": ".py",
   "mimetype": "text/x-python",
   "name": "python",
   "nbconvert_exporter": "python",
   "pygments_lexer": "ipython3",
   "version": "3.10.8"
  }
 },
 "nbformat": 4,
 "nbformat_minor": 5
}
