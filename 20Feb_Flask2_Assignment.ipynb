{
 "cells": [
  {
   "cell_type": "code",
   "execution_count": null,
   "id": "bd6a7166-d937-424f-a3a2-a3c06c4d2674",
   "metadata": {},
   "outputs": [],
   "source": [
    "#Q1. Explain GET and POST methods.\n",
    "\n",
    "#GET Methods\n",
    "\"\"\"\n",
    "GET is a method used in HTTP (Hypertext Transfer Protocol) to request data from a server.\n",
    "When you enter a URL in your web browser and hit Enter, your browser sends a GET request to the server to retrieve the requested resource (e.g., a web page).\n",
    "GET requests are used for retrieving or reading data from a server.\n",
    "GET requests can be bookmarked, cached, and shared, as they don't modify data on the server.\n",
    "In a GET request, data is typically sent in the URL's query parameters, visible in the address bar of the browser.\"\"\"\n",
    "\n",
    "#POST Methods\n",
    "\"\"\"\n",
    "POST is another method used in HTTP to send data to a server to create or update a resource.\n",
    "When you fill out a form on a website and click the Submit button, your browser sends a POST request to the server containing the form data.\n",
    "POST requests are used for submitting or sending data to the server, such as submitting a form, creating a new record, or updating existing data.\n",
    "POST requests are not bookmarked or cached by default because they may modify data on the server.\n",
    "In a POST request, data is sent in the body of the HTTP request, which is not visible in the URL.\"\"\""
   ]
  },
  {
   "cell_type": "code",
   "execution_count": null,
   "id": "f893116d-25b4-4c1b-8d6c-43c0b0e9f81f",
   "metadata": {},
   "outputs": [],
   "source": [
    "#Q2. Why is request used in Flask?\n",
    "\n",
    "\"\"\"the request object in Flask is used to get information and data from the client's request. It helps you access things like form inputs, query parameters, headers, and more that the client sends to your Flask application. By using the request object, \n",
    "you can read and process the data provided by the client, making it possible to build interactive and dynamic web applications.\"\"\""
   ]
  },
  {
   "cell_type": "code",
   "execution_count": null,
   "id": "f40774d8-5369-4297-95bb-3b9891587f0b",
   "metadata": {},
   "outputs": [],
   "source": [
    "#Q3. Why is redirect() used in Flask?\n",
    "\"\"\"the redirect() function in Flask is used to send users to a different URL or route within your application or external websites.\n",
    "It helps control user flow, handle navigation, and provide appropriate responses based on user actions or error conditions.\"\"\""
   ]
  },
  {
   "cell_type": "code",
   "execution_count": null,
   "id": "ac5e0ddf-5746-4e06-8539-f478f66d031a",
   "metadata": {},
   "outputs": [],
   "source": [
    "#Q4. What are templates in Flask? Why is the render_template() function used?\n",
    "\"\"\"Templates: Templates in Flask are typically HTML files with placeholders and dynamic components that can be filled in with data from your application. They provide a way to create consistent and reusable layouts for your web pages. By using templates, you can separate the design and structure of your web pages from the underlying logic and dynamically generate HTML content based on the data received from your Flask application.\n",
    "\n",
    "render_template() function: The render_template() function is used to render templates in Flask. It takes the name of the template file as an argument and returns the rendered HTML content that can be sent back to the client's browser.\n",
    "\n",
    "The render_template() function automatically searches for template files in a predefined directory (typically named templates).\"\"\""
   ]
  },
  {
   "cell_type": "code",
   "execution_count": null,
   "id": "9f4dfae4-de6b-4da1-8e55-18db957beac4",
   "metadata": {},
   "outputs": [],
   "source": [
    "#Q5. Create a simple API. Use Postman to test it. Attach the screenshot of the output in the Jupyter Notebook.\n",
    "\n",
    "from flask import Flask, jsonify, request\n",
    "\n",
    "app = Flask(__name__)\n",
    "\n",
    "@app.route('/api/hello', methods=['GET'])\n",
    "def hello():\n",
    "    return jsonify(message='Hello, API!')\n",
    "\n",
    "@app.route('/api/add', methods=['POST'])\n",
    "def add_numbers():\n",
    "    data = request.get_json()\n",
    "    num1 = data.get('num1')\n",
    "    num2 = data.get('num2')\n",
    "    result = num1 + num2\n",
    "    return jsonify(result=result)\n",
    "\n",
    "if __name__ == '__main__':\n",
    "    app.run(debug=True)\n"
   ]
  }
 ],
 "metadata": {
  "kernelspec": {
   "display_name": "Python 3 (ipykernel)",
   "language": "python",
   "name": "python3"
  },
  "language_info": {
   "codemirror_mode": {
    "name": "ipython",
    "version": 3
   },
   "file_extension": ".py",
   "mimetype": "text/x-python",
   "name": "python",
   "nbconvert_exporter": "python",
   "pygments_lexer": "ipython3",
   "version": "3.10.8"
  }
 },
 "nbformat": 4,
 "nbformat_minor": 5
}
