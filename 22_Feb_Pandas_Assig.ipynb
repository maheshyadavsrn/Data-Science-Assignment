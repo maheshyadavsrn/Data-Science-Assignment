{
 "cells": [
  {
   "cell_type": "code",
   "execution_count": 1,
   "id": "20da4eae-43d3-43f9-b6e8-0caf949e9463",
   "metadata": {},
   "outputs": [
    {
     "name": "stdout",
     "output_type": "stream",
     "text": [
      "0     4\n",
      "1     8\n",
      "2    15\n",
      "3    16\n",
      "4    23\n",
      "5    42\n",
      "dtype: int64\n"
     ]
    }
   ],
   "source": [
    "#Q1. Create a Pandas Series that contains the following data: 4, 8, 15, 16, 23, and 42. Then, print the series.\n",
    "\n",
    "import pandas as pd\n",
    "\n",
    "# Create a Pandas Series with the data\n",
    "data = [4, 8, 15, 16, 23, 42]\n",
    "series = pd.Series(data)\n",
    "\n",
    "# Print the series\n",
    "print(series)\n"
   ]
  },
  {
   "cell_type": "code",
   "execution_count": 2,
   "id": "67ffdbde-75aa-4de7-ba84-2696d7975a39",
   "metadata": {},
   "outputs": [
    {
     "name": "stdout",
     "output_type": "stream",
     "text": [
      "0     1\n",
      "1     2\n",
      "2     3\n",
      "3     4\n",
      "4     5\n",
      "5     6\n",
      "6     7\n",
      "7     8\n",
      "8     9\n",
      "9    10\n",
      "dtype: int64\n"
     ]
    }
   ],
   "source": [
    "#Q2. Create a variable of list type containing 10 elements in it, and apply pandas.Series function on the variable print it.\n",
    "import pandas as pd\n",
    "\n",
    "# Create a list with 10 elements\n",
    "my_list = [1, 2, 3, 4, 5, 6, 7, 8, 9, 10]\n",
    "\n",
    "# Convert the list into a Pandas Series\n",
    "series = pd.Series(my_list)\n",
    "\n",
    "# Print the series\n",
    "print(series)\n"
   ]
  },
  {
   "cell_type": "code",
   "execution_count": 4,
   "id": "fba6ea9f-4800-4695-a818-4838853dc597",
   "metadata": {},
   "outputs": [
    {
     "name": "stdout",
     "output_type": "stream",
     "text": [
      "     Name  Age  Gender\n",
      "0   Alice   25  Female\n",
      "1     Bob   30    Male\n",
      "2  Claire   27  Female\n"
     ]
    }
   ],
   "source": [
    "#Q3\n",
    "\n",
    "import pandas as pd\n",
    "\n",
    "# Create a dictionary with the data\n",
    "data = {\n",
    "    'Name': ['Alice', 'Bob', 'Claire'],\n",
    "    'Age': [25, 30, 27],\n",
    "    'Gender': ['Female', 'Male', 'Female']\n",
    "}\n",
    "\n",
    "# Convert the dictionary into a Pandas DataFrame\n",
    "df = pd.DataFrame(data)\n",
    "\n",
    "# Print the DataFrame\n",
    "print(df)"
   ]
  },
  {
   "cell_type": "code",
   "execution_count": 11,
   "id": "f0821db4-321b-4671-a5a3-62c86e490c2f",
   "metadata": {},
   "outputs": [
    {
     "name": "stdout",
     "output_type": "stream",
     "text": [
      "     Name  Age  Gender\n",
      "0  Mahesh   22    Male\n",
      "1  Adarsh   22    Male\n",
      "2   Ankit   22  Female\n"
     ]
    }
   ],
   "source": [
    "#Q4. What is ‘DataFrame’ in pandas and how is it different from pandas.series? Explain with an example.\n",
    "\"\"\"DataFrame is like a table with rows and columns, where each column can contain different types of data. It is used to organize and manipulate data in a tabular format, just like a spreadsheet or database table.\n",
    "\n",
    "Series is like a single column of data, where all the elements have the same data type. It is used to store and handle a sequence of data, and each element in the Series is associated with a unique label (index).\n",
    "\n",
    "Imagine DataFrame as a complete table with multiple columns, and Series as a single column of that table. DataFrame can handle complex data structures, while Series is useful for working with individual sequences of data. Both are essential components of Pandas, a powerful library for data manipulation and analysis in Python.\"\"\"\n",
    "\n",
    "import pandas as pd\n",
    "\n",
    "# Create a dictionary with the data\n",
    "data = {\n",
    "    'Name': ['Mahesh', 'Adarsh', 'Ankit'],\n",
    "    'Age': [22, 22, 22],\n",
    "    'Gender': ['Male', 'Male', 'Female']\n",
    "}\n",
    "\n",
    "# Convert the dictionary into a Pandas DataFrame\n",
    "df = pd.DataFrame(data)\n",
    "\n",
    "# Print the DataFrame\n",
    "print(df)\n",
    "\n",
    "\n"
   ]
  },
  {
   "cell_type": "code",
   "execution_count": 13,
   "id": "aa196446-dc14-4851-a2a5-a0a3b35a12ce",
   "metadata": {},
   "outputs": [
    {
     "name": "stdout",
     "output_type": "stream",
     "text": [
      "    Name  Age  Gender\n",
      "0  Alice   25  Female\n",
      "1    Bob   30    Male\n",
      "     Name  Age  Gender\n",
      "2  Claire   27  Female\n",
      "<class 'pandas.core.frame.DataFrame'>\n",
      "RangeIndex: 3 entries, 0 to 2\n",
      "Data columns (total 3 columns):\n",
      " #   Column  Non-Null Count  Dtype \n",
      "---  ------  --------------  ----- \n",
      " 0   Name    3 non-null      object\n",
      " 1   Age     3 non-null      int64 \n",
      " 2   Gender  3 non-null      object\n",
      "dtypes: int64(1), object(2)\n",
      "memory usage: 200.0+ bytes\n",
      "None\n",
      "             Age\n",
      "count   3.000000\n",
      "mean   27.333333\n",
      "std     2.516611\n",
      "min    25.000000\n",
      "25%    26.000000\n",
      "50%    27.000000\n",
      "75%    28.500000\n",
      "max    30.000000\n",
      "     Name  Age  Gender\n",
      "1     Bob   30    Male\n",
      "2  Claire   27  Female\n",
      "0   Alice   25  Female\n",
      "Gender\n",
      "Female    26.0\n",
      "Male      30.0\n",
      "Name: Age, dtype: float64\n"
     ]
    }
   ],
   "source": [
    "#Q5. What are some common functions you can use to manipulate data in a Pandas DataFrame? Can you give an example of when you might use one of these functions?\n",
    "\n",
    "\"\"\"head(): It allows you to view the first few rows of the DataFrame. This is useful to get a quick glimpse of the data.\"\"\"\n",
    "import pandas as pd\n",
    "\n",
    "# Create a DataFrame\n",
    "data = {'Name': ['Alice', 'Bob', 'Claire'],\n",
    "        'Age': [25, 30, 27],\n",
    "        'Gender': ['Female', 'Male', 'Female']}\n",
    "df = pd.DataFrame(data)\n",
    "\n",
    "# Use head() to view the first 2 rows\n",
    "print(df.head(2))\n",
    "\n",
    "\"\"\"tail(): It allows you to view the last few rows of the DataFrame. This is useful to check the end of the data.\"\"\"\n",
    "\n",
    "# Use tail() to view the last row\n",
    "print(df.tail(1))\n",
    "\n",
    "\"\"\"info(): It provides a summary of the DataFrame, including data types, non-null counts, and memory usage. This helps in understanding the structure of the DataFrame and identifying missing values.\"\"\"\n",
    "# Get a summary of the DataFrame\n",
    "print(df.info())\n",
    "\n",
    "\"\"\"describe(): It provides descriptive statistics for numerical columns in the DataFrame, such as count, mean, standard deviation, minimum, and maximum values.\"\"\"\n",
    "# Get descriptive statistics for numerical columns\n",
    "print(df.describe())\n",
    "\n",
    "\"\"\"sort_values(): It allows you to sort the DataFrame based on one or more columns. Sorting helps in analyzing data in a specific order.\"\"\"\n",
    "# Sort the DataFrame based on 'Age' in descending order\n",
    "sorted_df = df.sort_values(by='Age', ascending=False)\n",
    "print(sorted_df)\n",
    "\n",
    "\"\"\"groupby(): It is used for grouping data based on one or more columns. This helps in performing aggregate operations on groups of data.\"\"\"\n",
    "# Group the DataFrame based on 'Gender' and calculate the average age per gender\n",
    "grouped_df = df.groupby('Gender')['Age'].mean()\n",
    "print(grouped_df)\n",
    "\n"
   ]
  },
  {
   "cell_type": "code",
   "execution_count": null,
   "id": "1414165a-39b9-4a85-815e-4c8d0eae0974",
   "metadata": {},
   "outputs": [],
   "source": [
    "#Q6. Which of the following is mutable in nature Series, DataFrame, Panel?\n",
    "\n",
    "\"\"\"Series: A Series in Pandas is a one-dimensional labeled array, and it is mutable, which means you can modify the elements of a Series after it is created. You can change, add, or delete elements in a Series.\n",
    "\n",
    "DataFrame: A DataFrame in Pandas is a two-dimensional labeled data structure, similar to a table. It is also mutable, and you can modify the data in the DataFrame. You can change the values in cells, add new rows or columns, and remove existing rows or columns.\n",
    "\n",
    "Panel: A Panel in Pandas is a three-dimensional data structure, which was used to handle data with three or more dimensions. However, it has been deprecated since version 0.25.0 and is no longer recommended for use. Panels were not mutable either.\"\"\""
   ]
  },
  {
   "cell_type": "code",
   "execution_count": 14,
   "id": "7ed2a8b2-c53c-4103-acf4-71357e16646d",
   "metadata": {},
   "outputs": [
    {
     "name": "stdout",
     "output_type": "stream",
     "text": [
      "     Name  Age\n",
      "0  Mahesh   23\n",
      "1  Adarsh   23\n",
      "2   Ankit   22\n"
     ]
    }
   ],
   "source": [
    "#Q7. Create a DataFrame using multiple Series. Explain with an example.\n",
    "\n",
    "import pandas as pd\n",
    "\n",
    "# Create a Series for 'Name'\n",
    "names_series = pd.Series(['Mahesh', 'Adarsh', 'Ankit'])\n",
    "\n",
    "# Create a Series for 'Age'\n",
    "ages_series = pd.Series([23, 23, 22])\n",
    "\n",
    "# Combine the Series into a DataFrame\n",
    "data = {\n",
    "    'Name': names_series,\n",
    "    'Age': ages_series\n",
    "}\n",
    "\n",
    "df = pd.DataFrame(data)\n",
    "\n",
    "# Print the DataFrame\n",
    "print(df)\n"
   ]
  },
  {
   "cell_type": "code",
   "execution_count": null,
   "id": "8156e5c8-ba55-4e5b-93c1-a92e48410874",
   "metadata": {},
   "outputs": [],
   "source": []
  }
 ],
 "metadata": {
  "kernelspec": {
   "display_name": "Python 3 (ipykernel)",
   "language": "python",
   "name": "python3"
  },
  "language_info": {
   "codemirror_mode": {
    "name": "ipython",
    "version": 3
   },
   "file_extension": ".py",
   "mimetype": "text/x-python",
   "name": "python",
   "nbconvert_exporter": "python",
   "pygments_lexer": "ipython3",
   "version": "3.10.8"
  }
 },
 "nbformat": 4,
 "nbformat_minor": 5
}
