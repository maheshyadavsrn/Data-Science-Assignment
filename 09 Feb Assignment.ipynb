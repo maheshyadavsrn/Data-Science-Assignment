{
 "cells": [
  {
   "cell_type": "code",
   "execution_count": 3,
   "id": "d650a3c1-46ee-4ef3-ae83-b02a274c364e",
   "metadata": {},
   "outputs": [
    {
     "name": "stdout",
     "output_type": "stream",
     "text": [
      "Motor_cycle\n",
      "1500\n",
      "145km/hr\n"
     ]
    }
   ],
   "source": [
    "\"\"\" Q1.Create a vehicle class with an init method having instance variables as name_of_vehicle, max_speed \n",
    "and average_of_vehicle.\"\"\"\n",
    "\n",
    "\n",
    "class vehicle:\n",
    "    \n",
    "    # ___in__it() method \n",
    "     def __init__(self,name_of_vehicle, max_speed, average_of_vehicle):\n",
    "            \n",
    "            self.name_of_vehicle = name_of_vehicle\n",
    "            self.max_speed = max_speed\n",
    "            self.average_of_vehicle = average_of_vehicle\n",
    "        \n",
    "           \n",
    "        \n",
    "        \n",
    "# instance of the Vehicle\n",
    "\n",
    "obj = vehicle(\"Motor_cycle\",1500,\"145km/hr\")\n",
    "        \n",
    "# Accesing the return method by the help of instances  \n",
    "  \n",
    "print(obj.name_of_vehicle)\n",
    "print(obj.max_speed)\n",
    "print(obj.average_of_vehicle)"
   ]
  },
  {
   "cell_type": "code",
   "execution_count": 5,
   "id": "306030ce-d788-42fb-92ee-373b537d7ffb",
   "metadata": {},
   "outputs": [
    {
     "data": {
      "text/plain": [
       "'124 is the the seating capacty & Motor_cycle is the name of the vehicle'"
      ]
     },
     "execution_count": 5,
     "metadata": {},
     "output_type": "execute_result"
    }
   ],
   "source": [
    "\"\"\"Q2.  Create a child class car from the vehicle class created in Que 1, which will inherit the vehicle class. \n",
    "Create a method named seating_capacity which takes capacity as an argument and returns the name of \n",
    "the vehicle and its seating capacity.\"\"\"\n",
    "\n",
    "class car(vehicle):\n",
    "    \n",
    "    # method having the name seating capacity \n",
    "    \n",
    "    def seating_capacity(self,capacity):\n",
    "        # passing argument as capacity \n",
    "        self.capacity=capacity\n",
    "        #returning the capacity and name of the vehicle\n",
    "        return \"{} is the the seating capacty & {} is the name of the vehicle\".format(self.capacity,self.name_of_vehicle)\n",
    "        \n",
    "\n",
    "# instances of the car \n",
    "\n",
    "obj1 = car(\"Motor_cycle\", 1200,\"320km/hr\")\n",
    "\n",
    "# passing the capacity \n",
    "obj1.seating_capacity(124)"
   ]
  },
  {
   "cell_type": "code",
   "execution_count": 8,
   "id": "74f9ae60-2280-41e8-8684-11ca195bbe8f",
   "metadata": {},
   "outputs": [
    {
     "name": "stdout",
     "output_type": "stream",
     "text": [
      "Hello this is the Base class \n",
      "Hey Good luck! I am persuning the Data science Master course\n"
     ]
    }
   ],
   "source": [
    "\"\"\"Q3. What is multiple inheritance? Write a python code to demonstrate multiple inheritance.\"\"\"\n",
    "\n",
    "\"\"\"If a child class is inheriting the properties of a single other class, we call it single inheritance. However, if a child class inherits from more than one class\"\"\"\n",
    "\n",
    "class class1:\n",
    "    #method of class1\n",
    "    def message(self):\n",
    "        print(\"Hello this is the Base class \")\n",
    "        \n",
    "        \n",
    "#class2 \n",
    "class class2:\n",
    "    #method of class2 \n",
    "    def wish_message(self):\n",
    "        \n",
    "        print(\"Hey Good luck! I am persuning the Data science Master course\")\n",
    "        \n",
    "        \n",
    "        \n",
    "# Derived Class from class1 and  class2 that derived class called as multiple inheritence\n",
    "         \n",
    "class Derived_class(class1,class2):\n",
    "    pass \n",
    "\n",
    "# instances of the class\n",
    "\n",
    "obj_derived_class = Derived_class()\n",
    "\n",
    "# Accesing the methods of class1  and class2 using the instance of the Derived class\n",
    "\n",
    "obj_derived_class.message()\n",
    "obj_derived_class.wish_message()"
   ]
  },
  {
   "cell_type": "code",
   "execution_count": 10,
   "id": "9642dac6-7dfd-41b1-b7ff-b0856c28bdb5",
   "metadata": {},
   "outputs": [
    {
     "name": "stdout",
     "output_type": "stream",
     "text": [
      "('Mahesh Yadav', 22)\n"
     ]
    }
   ],
   "source": [
    "\"\"\"Q4. What are getter and setter in python? Create a class and create a getter and a setter method in this \n",
    "class.\"\"\"\n",
    "\n",
    "\"\"\"\n",
    "Getter and setter methods are used in object-oriented programming to define \n",
    "how an object's attributes can be accessed and modified.\n",
    "They are commonly used in Python to control the access to an object's attributes and to ensure that the attributes are in a valid state. \"\"\"\n",
    "\n",
    "# Gatter:\n",
    "\"\"\" A getter method is a method that is used to retrieve the value of an object's attribute.\"\"\"\n",
    "# Setter:\n",
    "\"\"\"A setter method is a method that is used to set the value of an object's attribute.\"\"\"\n",
    "\n",
    "# For Example:\n",
    "class Employee:\n",
    "    def __init__(self, name,age):\n",
    "        self._name = name\n",
    "        self._age =age\n",
    "\n",
    "    # Getter method\n",
    "    def get_name(self):\n",
    "        return self._name ,self._age\n",
    "        \n",
    "    \n",
    "\n",
    "    # Setter method\n",
    "    def set_name(self, name ,age):\n",
    "        self._name = name\n",
    "        self._age =age\n",
    "\n",
    "    # Property decorator to access the getter method as an attribute\n",
    "    @property\n",
    "    def name(self):\n",
    "        return self.get_name()\n",
    "\n",
    "    # Property decorator to access the setter method as an attribute\n",
    "    @name.setter\n",
    "    def name(self, name,age):\n",
    "        self.set_name(name)\n",
    "        self.set_name(age)\n",
    "\n",
    "empl = Employee(\"Mahesh Yadav\" ,22)\n",
    "print(empl.name) "
   ]
  },
  {
   "cell_type": "code",
   "execution_count": 12,
   "id": "ef405325-162c-424c-98b6-00ab5156ceff",
   "metadata": {},
   "outputs": [
    {
     "name": "stdout",
     "output_type": "stream",
     "text": [
      "Welcome Data Science in Pwskills\n"
     ]
    }
   ],
   "source": [
    "#Q5.What is method overriding in python? Write a python code to demonstrate method overriding.\n",
    "\n",
    "\"\"\"\n",
    "Method Overriding in Python is an OOPs concept closely related to inheritance.\n",
    "When a child class method overrides(or, provides it's own implementation) the parent class method of the same name, parameters and return type, it is known as method overriding.\n",
    "\"\"\"\n",
    "\n",
    "# For example:\n",
    "class shape:\n",
    "    # method having name sum\n",
    "    \n",
    "    def message(self):\n",
    "        print(\"Hi Python Developer\")\n",
    "    \n",
    "class shape1(shape):\n",
    "    \n",
    "    # method having same name but it tkaes 3 arguments \n",
    "    def message(self):\n",
    "        print(\"Welcome Data Science in Pwskills\")\n",
    "        \n",
    "# instances of the class shape\n",
    "obj =shape1()\n",
    "obj.message()"
   ]
  },
  {
   "cell_type": "code",
   "execution_count": null,
   "id": "43c801f0-60fd-48ea-ac8d-26ebaebe1e32",
   "metadata": {},
   "outputs": [],
   "source": []
  }
 ],
 "metadata": {
  "kernelspec": {
   "display_name": "Python 3 (ipykernel)",
   "language": "python",
   "name": "python3"
  },
  "language_info": {
   "codemirror_mode": {
    "name": "ipython",
    "version": 3
   },
   "file_extension": ".py",
   "mimetype": "text/x-python",
   "name": "python",
   "nbconvert_exporter": "python",
   "pygments_lexer": "ipython3",
   "version": "3.10.8"
  }
 },
 "nbformat": 4,
 "nbformat_minor": 5
}
