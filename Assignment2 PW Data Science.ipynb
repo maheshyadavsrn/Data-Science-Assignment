{
 "cells": [
  {
   "cell_type": "code",
   "execution_count": 3,
   "id": "b776f090-10bd-4bba-ba8a-0ff21d0f1c7c",
   "metadata": {},
   "outputs": [
    {
     "data": {
      "text/plain": [
       "[1, 3, 5, 7, 9, 11, 13, 15, 17, 19, 21, 23, 25]"
      ]
     },
     "execution_count": 3,
     "metadata": {},
     "output_type": "execute_result"
    }
   ],
   "source": [
    "\"\"\"Q1. Which keyword is used to create a function? Create a function to return a list of odd numbers in the\n",
    "range of 1 to 25.\"\"\"\n",
    "\n",
    "\n",
    "def odd_number():\n",
    "    l=[]\n",
    "    for i in range(1,26):\n",
    "        if i%2!=0:\n",
    "            l.append(i)\n",
    "    return l\n",
    "odd_number()"
   ]
  },
  {
   "cell_type": "code",
   "execution_count": 4,
   "id": "f6b1893f-a499-4c9a-bc89-2369f5757ddc",
   "metadata": {},
   "outputs": [
    {
     "name": "stdout",
     "output_type": "stream",
     "text": [
      "('mahesh', 1, 2, [1, 2, 3, 4, 5, (9, 8)])\n"
     ]
    },
    {
     "data": {
      "text/plain": [
       "{'a': 23, 'b': 'mahesh'}"
      ]
     },
     "execution_count": 4,
     "metadata": {},
     "output_type": "execute_result"
    }
   ],
   "source": [
    "\"\"\"Q2. Why *args and **kwargs is used in some functions? Create a function each for *args and **kwargs\n",
    "to demonstrate their use.\"\"\"\n",
    "\n",
    "# *args is used for multiple arguments in functions\n",
    "l=[1,2,3,4,5,(9,8)]\n",
    "\n",
    "def test3(*args):\n",
    "    return args\n",
    "print(test3(\"mahesh\",1,2,l))\n",
    "\n",
    "\n",
    "# **kwargs is used for mutiple key value pair arguments in function\n",
    "def test7(**kwargs):\n",
    "    return kwargs\n",
    "test7(a=23,b=\"mahesh\")\n",
    "\n",
    "\n"
   ]
  },
  {
   "cell_type": "code",
   "execution_count": 5,
   "id": "48746fd8-843f-4f12-bb07-0b816ad25cd6",
   "metadata": {},
   "outputs": [
    {
     "name": "stdout",
     "output_type": "stream",
     "text": [
      "2 4 6 8 10 "
     ]
    }
   ],
   "source": [
    "\"\"\"Q3. What is an iterator in python? Name the method used to initialise the iterator object and the method\n",
    "used for iteration. Use these methods to print the first five elements of the given list [2, 4, 6, 8, 10, 12, 14,\n",
    "16, 18, 20].\"\"\"\n",
    "\"\"\"\n",
    "An iterator in Python is an object that allows to traverse a container(list,tuple,etc)\n",
    "\n",
    "The method used to initialize an iterator object is iter() and the method used for iteration is next()\n",
    "\"\"\"\n",
    "l = [2, 4, 6, 8, 10, 12, 14, 16, 18, 20]\n",
    "itr = iter(l)\n",
    "\n",
    "for i in range(5):\n",
    "    print(next(itr) , end =\" \")\n",
    "\n",
    "\n"
   ]
  },
  {
   "cell_type": "code",
   "execution_count": 6,
   "id": "aaf209da-20e2-4ddc-9850-7872a3eaaf3c",
   "metadata": {},
   "outputs": [
    {
     "name": "stdout",
     "output_type": "stream",
     "text": [
      "0 1 1 2 3 "
     ]
    }
   ],
   "source": [
    "\"\"\"Q4. What is a generator function in python? Why yield keyword is used? Give an example of a generator\n",
    "function.\"\"\"\n",
    "\n",
    "\"\"\"\n",
    "A generator function generates a sequence of values, one at a time, instead of returning a single value. \n",
    "\n",
    "The yield keyword is used in a generator function because\n",
    "it allows the function to produce a value, pause execution, and then resume later.\n",
    "\"\"\"\n",
    "def fibonacci(n):\n",
    "    a, b = 0, 1\n",
    "    for i in range(n):\n",
    "        yield a\n",
    "        a, b = b, a + b\n",
    "\n",
    "fib = fibonacci(5)\n",
    "for i in fib:\n",
    "    print(i,end=\" \")\n",
    "\n"
   ]
  },
  {
   "cell_type": "code",
   "execution_count": 11,
   "id": "e3b57083-8749-43a4-88da-0496a0349f85",
   "metadata": {},
   "outputs": [
    {
     "name": "stdout",
     "output_type": "stream",
     "text": [
      "2, 3, 5, 7, 11, 13, 17, 19, 23, 29, 31, 37, 41, 43, 47, 53, 59, 61, 67, 71, "
     ]
    }
   ],
   "source": [
    "\"\"\"Q5. Create a generator function for prime numbers less than 1000. Use the next() method to print the\n",
    "first 20 prime numbers.\"\"\"\n",
    "\n",
    "def prime_no():\n",
    "    primes = []\n",
    "    for num in range(2, 1000):\n",
    "        for prime in primes:\n",
    "            if num % prime == 0:\n",
    "                break\n",
    "        else:\n",
    "            primes.append(num)\n",
    "            yield num\n",
    "\n",
    "gen = prime_no()\n",
    "for i in range(20):\n",
    "    print(next(gen),end=\", \")\n",
    "\n"
   ]
  },
  {
   "cell_type": "code",
   "execution_count": 12,
   "id": "36e14d6e-9f1e-4cfa-bd87-8f5a9fbed263",
   "metadata": {},
   "outputs": [
    {
     "name": "stdout",
     "output_type": "stream",
     "text": [
      "0 1,1,2,3,5,8,13,21,34,"
     ]
    }
   ],
   "source": [
    "\"\"\"Q6. Write a python program to print the first 10 Fibonacci numbers using a while loop.\"\"\"\n",
    "\n",
    "a=0\n",
    "b=1\n",
    "\n",
    "print(a,b,end=\",\")\n",
    "\n",
    "i=2\n",
    "while(i<10):\n",
    "    c=a+b\n",
    "    print(c,end=\",\")\n",
    "    a=b\n",
    "    b=c\n",
    "    i+=1\n"
   ]
  },
  {
   "cell_type": "code",
   "execution_count": 14,
   "id": "869bec98-21b6-4c67-bd09-68529a2e5159",
   "metadata": {},
   "outputs": [
    {
     "data": {
      "text/plain": [
       "['p', 'w', 's', 'k', 'i', 'l', 'l', 's']"
      ]
     },
     "execution_count": 14,
     "metadata": {},
     "output_type": "execute_result"
    }
   ],
   "source": [
    "\"\"\"Q7. Write a List Comprehension to iterate through the given string: ‘pwskills’.\n",
    "Expected output: ['p', 'w', 's', 'k', 'i', 'l', 'l', 's']\"\"\"\n",
    "\n",
    "\n",
    "\n",
    "string = \"pwskills\"\n",
    "[i for i in string]"
   ]
  },
  {
   "cell_type": "code",
   "execution_count": 15,
   "id": "74e4c859-f3b6-4ba7-b832-5b1e5cf598ee",
   "metadata": {},
   "outputs": [
    {
     "name": "stdin",
     "output_type": "stream",
     "text": [
      "Enter a number: 777\n"
     ]
    },
    {
     "name": "stdout",
     "output_type": "stream",
     "text": [
      "The given number is a plaindrome\n"
     ]
    }
   ],
   "source": [
    "\"\"\"Q8. Write a python program to check whether a given number is Palindrome or not using a while loop.\"\"\"\n",
    "number=input(\"Enter a number:\")\n",
    "\n",
    "i=0\n",
    "n=len(number)\n",
    "j=n-1\n",
    "\n",
    "is_palindrome=True\n",
    "while i<n and j>=0:\n",
    "    if number[i]!=number[j]:\n",
    "        is_palindrome=False\n",
    "        break\n",
    "    i+=1\n",
    "    j-=1\n",
    "\n",
    "if(is_palindrome!=True):\n",
    "    print(\"The given number is not a palindrome\")\n",
    "else:\n",
    "    print(\"The given number is a plaindrome\")\n"
   ]
  },
  {
   "cell_type": "code",
   "execution_count": 16,
   "id": "6684734c-69d4-444b-9229-5f3e3a78a0d5",
   "metadata": {},
   "outputs": [
    {
     "data": {
      "text/plain": [
       "[1,\n",
       " 3,\n",
       " 5,\n",
       " 7,\n",
       " 9,\n",
       " 11,\n",
       " 13,\n",
       " 15,\n",
       " 17,\n",
       " 19,\n",
       " 21,\n",
       " 23,\n",
       " 25,\n",
       " 27,\n",
       " 29,\n",
       " 31,\n",
       " 33,\n",
       " 35,\n",
       " 37,\n",
       " 39,\n",
       " 41,\n",
       " 43,\n",
       " 45,\n",
       " 47,\n",
       " 49,\n",
       " 51,\n",
       " 53,\n",
       " 55,\n",
       " 57,\n",
       " 59,\n",
       " 61,\n",
       " 63,\n",
       " 65,\n",
       " 67,\n",
       " 69,\n",
       " 71,\n",
       " 73,\n",
       " 75,\n",
       " 77,\n",
       " 79,\n",
       " 81,\n",
       " 83,\n",
       " 85,\n",
       " 87,\n",
       " 89,\n",
       " 91,\n",
       " 93,\n",
       " 95,\n",
       " 97,\n",
       " 99]"
      ]
     },
     "execution_count": 16,
     "metadata": {},
     "output_type": "execute_result"
    }
   ],
   "source": [
    "\"\"\"Q9. Write a code to print odd numbers from 1 to 100 using list comprehension.\n",
    "Note: Use a list comprehension to create a list from 1 to 100 and use another List comprehension to filter\n",
    "out odd numbers.\"\"\"\n",
    "\n",
    "[i for i in range(1,101) if i%2!=0]"
   ]
  },
  {
   "cell_type": "code",
   "execution_count": null,
   "id": "e9c42657-462e-408b-b464-b068989eb77b",
   "metadata": {},
   "outputs": [],
   "source": []
  }
 ],
 "metadata": {
  "kernelspec": {
   "display_name": "Python 3 (ipykernel)",
   "language": "python",
   "name": "python3"
  },
  "language_info": {
   "codemirror_mode": {
    "name": "ipython",
    "version": 3
   },
   "file_extension": ".py",
   "mimetype": "text/x-python",
   "name": "python",
   "nbconvert_exporter": "python",
   "pygments_lexer": "ipython3",
   "version": "3.10.8"
  }
 },
 "nbformat": 4,
 "nbformat_minor": 5
}
