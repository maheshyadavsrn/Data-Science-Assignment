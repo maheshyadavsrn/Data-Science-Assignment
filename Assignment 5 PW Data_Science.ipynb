{
 "cells": [
  {
   "cell_type": "code",
   "execution_count": 1,
   "id": "7a914bf6-edb9-4610-aa17-ca0b91902b09",
   "metadata": {},
   "outputs": [
    {
     "data": {
      "text/plain": [
       "' Guido van Rossum developed python programming '"
      ]
     },
     "execution_count": 1,
     "metadata": {},
     "output_type": "execute_result"
    }
   ],
   "source": [
    "# 1\n",
    "\"\"\" Guido van Rossum developed python programming \"\"\""
   ]
  },
  {
   "cell_type": "code",
   "execution_count": 2,
   "id": "5e1adc12-ba21-4c29-99c2-4680d99f02cd",
   "metadata": {},
   "outputs": [
    {
     "data": {
      "text/plain": [
       "' Python is a structured and object oriented programming language '"
      ]
     },
     "execution_count": 2,
     "metadata": {},
     "output_type": "execute_result"
    }
   ],
   "source": [
    "# 2\n",
    "\"\"\" Python is a structured and object oriented programming language \"\"\""
   ]
  },
  {
   "cell_type": "code",
   "execution_count": 3,
   "id": "3c717b97-43a8-4eed-9c09-9a8c17725525",
   "metadata": {},
   "outputs": [
    {
     "data": {
      "text/plain": [
       "' Yes, Python is case sensitive  '"
      ]
     },
     "execution_count": 3,
     "metadata": {},
     "output_type": "execute_result"
    }
   ],
   "source": [
    "#3\n",
    "\"\"\" Yes, Python is case sensitive  \"\"\""
   ]
  },
  {
   "cell_type": "code",
   "execution_count": 4,
   "id": "d4bcd5cb-24d0-4a58-bb56-1a1901625ef7",
   "metadata": {},
   "outputs": [
    {
     "data": {
      "text/plain": [
       "' .py, .pyi is the correct extensions of python '"
      ]
     },
     "execution_count": 4,
     "metadata": {},
     "output_type": "execute_result"
    }
   ],
   "source": [
    "#4\n",
    "\"\"\" .py, .pyi is the correct extensions of python \"\"\""
   ]
  },
  {
   "cell_type": "code",
   "execution_count": 5,
   "id": "193dbd72-47f8-4609-87fb-b0b4bb0f27c8",
   "metadata": {},
   "outputs": [
    {
     "data": {
      "text/plain": [
       "' Python is an interpreted language '"
      ]
     },
     "execution_count": 5,
     "metadata": {},
     "output_type": "execute_result"
    }
   ],
   "source": [
    "#5\n",
    "\"\"\" Python is an interpreted language \"\"\""
   ]
  },
  {
   "cell_type": "code",
   "execution_count": 6,
   "id": "fd9e72d6-cd95-4f02-b269-c80a443ab80f",
   "metadata": {},
   "outputs": [
    {
     "data": {
      "text/plain": [
       "'\\nmodeule\\nclass\\nfunction\\n'"
      ]
     },
     "execution_count": 6,
     "metadata": {},
     "output_type": "execute_result"
    }
   ],
   "source": [
    "# 6\n",
    "\n",
    "\"\"\"\n",
    "modeule\n",
    "class\n",
    "function\n",
    "\"\"\""
   ]
  },
  {
   "cell_type": "code",
   "execution_count": 7,
   "id": "e3290529-1cb0-4a94-91c3-769b66930664",
   "metadata": {},
   "outputs": [
    {
     "data": {
      "text/plain": [
       "\" a hashtag symbol '#' is used to give single-line comment in python \""
      ]
     },
     "execution_count": 7,
     "metadata": {},
     "output_type": "execute_result"
    }
   ],
   "source": [
    "#7\n",
    "\"\"\" a hashtag symbol '#' is used to give single-line comment in python \"\"\""
   ]
  },
  {
   "cell_type": "code",
   "execution_count": 8,
   "id": "03c409de-f87b-472b-bf52-4cf525fa8287",
   "metadata": {},
   "outputs": [
    {
     "data": {
      "text/plain": [
       "'\\n# using command line\\npython --version or python -V\\n\\n# using python_version() function\\nfrom platform import python_version\\npython_version()\\n\\n# using sys.version method\\nimport sys\\nsys.version\\n'"
      ]
     },
     "execution_count": 8,
     "metadata": {},
     "output_type": "execute_result"
    }
   ],
   "source": [
    "#8\n",
    "# functions used to check the version of python are:\n",
    "\"\"\"\n",
    "# using command line\n",
    "python --version or python -V\n",
    "\n",
    "# using python_version() function\n",
    "from platform import python_version\n",
    "python_version()\n",
    "\n",
    "# using sys.version method\n",
    "import sys\n",
    "sys.version\n",
    "\"\"\" "
   ]
  },
  {
   "cell_type": "code",
   "execution_count": 9,
   "id": "f3e072c8-5202-46b9-b4a9-6f0a79c587a1",
   "metadata": {},
   "outputs": [
    {
     "data": {
      "text/plain": [
       "' Python supports the creation of anonymous functions  at runtime, using a construct called lambda.\\nlambda()  function '"
      ]
     },
     "execution_count": 9,
     "metadata": {},
     "output_type": "execute_result"
    }
   ],
   "source": [
    "#9\n",
    "\"\"\" Python supports the creation of anonymous functions  at runtime, using a construct called lambda.\n",
    "lambda()  function \"\"\""
   ]
  },
  {
   "cell_type": "code",
   "execution_count": 10,
   "id": "29572064-c7b1-431e-8471-74bd4d1fd9c1",
   "metadata": {},
   "outputs": [
    {
     "data": {
      "text/plain": [
       "' pip stands for preferred installer program '"
      ]
     },
     "execution_count": 10,
     "metadata": {},
     "output_type": "execute_result"
    }
   ],
   "source": [
    "\"\"\" pip stands for preferred installer program \"\"\""
   ]
  },
  {
   "cell_type": "code",
   "execution_count": 12,
   "id": "41193e49-68fa-4d54-9ed0-0deeae460f71",
   "metadata": {},
   "outputs": [
    {
     "data": {
      "text/plain": [
       "' in-bulit functions in pyhton are - type(), print(), input(), len(), find(), append(), '"
      ]
     },
     "execution_count": 12,
     "metadata": {},
     "output_type": "execute_result"
    }
   ],
   "source": [
    "#11\n",
    "\"\"\" in-bulit functions in pyhton are - type(), print(), input(), len(), find(), append(), \"\"\""
   ]
  },
  {
   "cell_type": "code",
   "execution_count": 13,
   "id": "7d301568-ddbb-4cc9-bc7a-647b93906ce4",
   "metadata": {},
   "outputs": [
    {
     "data": {
      "text/plain": [
       "' An identifier can have maximum length of 79 characters '"
      ]
     },
     "execution_count": 13,
     "metadata": {},
     "output_type": "execute_result"
    }
   ],
   "source": [
    "#12\n",
    "\"\"\" An identifier can have maximum length of 79 characters \"\"\""
   ]
  },
  {
   "cell_type": "code",
   "execution_count": 14,
   "id": "d754cc9a-45a6-43b3-a543-87c6b31f7b4e",
   "metadata": {},
   "outputs": [
    {
     "data": {
      "text/plain": [
       "'benefits of learning python:\\n    used in Data Science\\n    used in AI as well as Machine Learning\\n    used in Computer Graphics\\n    Scientific as well as Mathematical Calculations\\n'"
      ]
     },
     "execution_count": 14,
     "metadata": {},
     "output_type": "execute_result"
    }
   ],
   "source": [
    "#13\n",
    "\"\"\"benefits of learning python:\n",
    "    used in Data Science\n",
    "    used in AI as well as Machine Learning\n",
    "    used in Computer Graphics\n",
    "    Scientific as well as Mathematical Calculations\n",
    "\"\"\" "
   ]
  },
  {
   "cell_type": "code",
   "execution_count": 15,
   "id": "b25c02ef-6a3d-4059-b50b-6f8856282b15",
   "metadata": {},
   "outputs": [
    {
     "data": {
      "text/plain": [
       "'\\nIn Python, memory management is done automatically by the Python memory manager through a process called reference counting,\\nand is also facilitated by a cycle-detecting garbage collector that periodically frees memory occupied by objects that are no longer in use.\\nAdditionally, Python has built-in support for dynamic allocation of memory using data structures such as lists, dictionaries, and sets.\\n\\nThere are two types of memory allocation:\\n1->Static Memory Allocation\\n2->Dynamic Memeory Allocation\\n'"
      ]
     },
     "execution_count": 15,
     "metadata": {},
     "output_type": "execute_result"
    }
   ],
   "source": [
    "#14\n",
    "\"\"\"\n",
    "In Python, memory management is done automatically by the Python memory manager through a process called reference counting,\n",
    "and is also facilitated by a cycle-detecting garbage collector that periodically frees memory occupied by objects that are no longer in use.\n",
    "Additionally, Python has built-in support for dynamic allocation of memory using data structures such as lists, dictionaries, and sets.\n",
    "\n",
    "There are two types of memory allocation:\n",
    "1->Static Memory Allocation\n",
    "2->Dynamic Memeory Allocation\n",
    "\"\"\""
   ]
  },
  {
   "cell_type": "code",
   "execution_count": 17,
   "id": "9311eb27-bc5a-47ce-ba11-0a73905b0431",
   "metadata": {},
   "outputs": [
    {
     "data": {
      "text/plain": [
       "'\\nsteps to install python Windows\\n\\n1 Download the latest version of Python from the official   website: https://www.python.org/downloads/\\n    2 Run the installation file and follow the instructions to complete the installation process.\\n    3 Open the Start menu and search for \"Environment Variables\". Click on \"Edit the system environment variables\".\\n    4 In the System Properties window, click on the \"Environment Variables\" button.\\n    5 Under System Variables, scroll down and find the \"Path\" variable, then click on \"Edit\".\\n    6 Click on \"New\" and add the path to the Python installation directory, typically \"C:\\\\PythonXX\", where XX is the version number.\\n    7 Click \"OK\" to save the changes and close all windows.\\n    8 Restart your computer to ensure the changes take effect.'"
      ]
     },
     "execution_count": 17,
     "metadata": {},
     "output_type": "execute_result"
    }
   ],
   "source": [
    "#15\n",
    "\"\"\"\n",
    "steps to install python Windows\n",
    "\n",
    "1 Download the latest version of Python from the official   website: https://www.python.org/downloads/\n",
    "    2 Run the installation file and follow the instructions to complete the installation process.\n",
    "    3 Open the Start menu and search for \"Environment Variables\". Click on \"Edit the system environment variables\".\n",
    "    4 In the System Properties window, click on the \"Environment Variables\" button.\n",
    "    5 Under System Variables, scroll down and find the \"Path\" variable, then click on \"Edit\".\n",
    "    6 Click on \"New\" and add the path to the Python installation directory, typically \"C:\\PythonXX\", where XX is the version number.\n",
    "    7 Click \"OK\" to save the changes and close all windows.\n",
    "    8 Restart your computer to ensure the changes take effect.\"\"\""
   ]
  },
  {
   "cell_type": "code",
   "execution_count": 18,
   "id": "a5a62123-6221-4f01-b522-4d53e53c2aeb",
   "metadata": {},
   "outputs": [
    {
     "data": {
      "text/plain": [
       "' Yes, Indentation is required in Python'"
      ]
     },
     "execution_count": 18,
     "metadata": {},
     "output_type": "execute_result"
    }
   ],
   "source": [
    "#16\n",
    "\"\"\" Yes, Indentation is required in Python\"\"\""
   ]
  },
  {
   "cell_type": "code",
   "execution_count": null,
   "id": "374a8448-95e5-4b86-8ef7-b70d7c51b5ad",
   "metadata": {},
   "outputs": [],
   "source": []
  }
 ],
 "metadata": {
  "kernelspec": {
   "display_name": "Python 3 (ipykernel)",
   "language": "python",
   "name": "python3"
  },
  "language_info": {
   "codemirror_mode": {
    "name": "ipython",
    "version": 3
   },
   "file_extension": ".py",
   "mimetype": "text/x-python",
   "name": "python",
   "nbconvert_exporter": "python",
   "pygments_lexer": "ipython3",
   "version": "3.10.8"
  }
 },
 "nbformat": 4,
 "nbformat_minor": 5
}
