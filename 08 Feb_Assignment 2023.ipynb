{
 "cells": [
  {
   "cell_type": "code",
   "execution_count": 1,
   "id": "7c4e56f6-13d2-4711-9c21-65661e9c3734",
   "metadata": {},
   "outputs": [
    {
     "name": "stdout",
     "output_type": "stream",
     "text": [
      "Fortuner 2010 is being driven\n"
     ]
    }
   ],
   "source": [
    "#Q1 What is Abstraction in OOps? Explain with an example.\n",
    "\n",
    "\"\"\"Abstraction in python is defined as a process of handling complexity by hiding unnecessary information from the user. This is one of the core concepts of object-oriented programming (OOP) languages.\"\"\"\n",
    "\n",
    "#Example\n",
    "\"\"\"Your car is a great example of abstraction. You can start a car by turning the key or pressing the start button. \n",
    "You don't need to know how the engine is getting started, what all components your car has. The car internal implementation and complex logic is completely hidden from the user\"\"\"\n",
    "\n",
    "class Car:\n",
    "    def __init__(self, make, model, company):\n",
    "        self._make = make\n",
    "        self._model = model\n",
    "        self.company= company\n",
    "\n",
    "    def start(self):\n",
    "        print(f\"{self._make} {self._model} started\")\n",
    "\n",
    "    def stop(self):\n",
    "        print(f\"{self._make} {self._model} stopped\")\n",
    "\n",
    "    def drive(self):\n",
    "        print(f\"{self._make} {self._model} is being driven\")\n",
    "    def brand(self):\n",
    "        print(self.company)\n",
    "        \n",
    "\n",
    "        \n",
    "#instamce of the class car \n",
    "\n",
    "obj = Car(\"Fortuner\",\"2010\",\"Mahindra\")\n",
    "obj.drive()\n"
   ]
  },
  {
   "cell_type": "code",
   "execution_count": 2,
   "id": "755f1c15-88fd-49c3-afbe-f8e213464826",
   "metadata": {},
   "outputs": [
    {
     "name": "stdout",
     "output_type": "stream",
     "text": [
      "Insufficient balance\n",
      "1500\n"
     ]
    }
   ],
   "source": [
    "#Q2. Differentiate between Abstraction and Encapsulation. Explain with an example.\n",
    "\n",
    "\"\"\"\n",
    "Abstraction :\n",
    "            It is the process of hiding the implementation details and \n",
    "showing only the essential features of an object.\n",
    "It is about creating a simplified representation of a complex system, \n",
    "allowing the user to interact with it at a higher level of abstraction.\n",
    "\"\"\"\n",
    "\n",
    "class Shape:\n",
    "    def __init__(self, sides):\n",
    "        self.sides = sides\n",
    "\n",
    "    def number_of_sides(self):\n",
    "        pass\n",
    "\n",
    "class Triangle(Shape):\n",
    "    def __init__(self, sides):\n",
    "        Shape.__init__(self, sides)\n",
    "\n",
    "    def number_of_sides(self):\n",
    "        return 3\n",
    "# similarly we can create classes for other shapes like circle, square, rectangle\n",
    "\"\"\"\n",
    "Encapsulation:\n",
    "             It refers to the bundling of data and functions into a single unit (object)\n",
    "that can be treated as a single entity. Encapsulation helps to hide the internal \n",
    "implementation details of an object and ensure that its data is protected from outside access or modification.\n",
    "\"\"\"\n",
    "class BankAccount:\n",
    "    def __init__(self, balance):\n",
    "        self.__balance = balance\n",
    "\n",
    "    def deposit(self, amount):\n",
    "        self.__balance += amount\n",
    "        \n",
    "    def withdraw(self, amount):\n",
    "        if amount > self.__balance:\n",
    "            print(\"Insufficient balance\")\n",
    "            return\n",
    "        self.__balance -= amount\n",
    "        \n",
    "    def get_balance(self):\n",
    "        return self.__balance\n",
    "\n",
    "acct = BankAccount(1000)\n",
    "acct.deposit(500)\n",
    "acct.withdraw(10000)\n",
    "print(acct.get_balance()) "
   ]
  },
  {
   "cell_type": "code",
   "execution_count": 3,
   "id": "e593d7c5-6be9-4423-9a72-f8acf1fbf893",
   "metadata": {},
   "outputs": [
    {
     "name": "stdout",
     "output_type": "stream",
     "text": [
      "25\n"
     ]
    },
    {
     "data": {
      "text/plain": [
       "'\\nFor example, we can define an abstract base class for a group of related shapes, \\nsuch as circles, triangles, and rectangles. \\nThe ABC would specify that all shapes must have methods to calculate their area and perimeter, \\nbut would not specify how these calculations should be performed. \\nSubclasses of the ABC would implement these methods for each specific shape.\\n'"
      ]
     },
     "execution_count": 3,
     "metadata": {},
     "output_type": "execute_result"
    }
   ],
   "source": [
    "#Q3. What is abc module in python? Why is it used?\n",
    "\"\"\"\n",
    "The \"abc\" module (abstract base classes) in Python is used to define abstract base classes (ABCs).\n",
    "An abstract base class is a class that cannot be instantiated, but can be subclassed. \n",
    "ABCs provide a way to define a common interface for a set of related classes\n",
    "without specifying a concrete implementation.\n",
    "\"\"\"\n",
    "# abc module example\n",
    "import abc\n",
    "\n",
    "class Shape(metaclass=abc.ABCMeta):\n",
    "    @abc.abstractmethod\n",
    "    def area(self):\n",
    "        pass\n",
    "\n",
    "class Square(Shape):\n",
    "    def __init__(self, side):\n",
    "        self.side = side\n",
    "\n",
    "    def area(self):\n",
    "        return self.side * self.side\n",
    "\n",
    "s = Square(5)\n",
    "print(s.area())\n",
    "\n",
    "\"\"\"\n",
    "The purpose of using ABCs is to define a common interface for a set of related classes \n",
    "and enforce that they adhere to the same interface. \n",
    "This helps to ensure that objects from these classes can be used interchangeably \n",
    "in code that depends on the interface. This way, the code remains flexible and maintainable, \n",
    "as it is decoupled from the specific implementation of the objects.\n",
    "\"\"\"\n",
    "\n",
    "\"\"\"\n",
    "For example, we can define an abstract base class for a group of related shapes, \n",
    "such as circles, triangles, and rectangles. \n",
    "The ABC would specify that all shapes must have methods to calculate their area and perimeter, \n",
    "but would not specify how these calculations should be performed. \n",
    "Subclasses of the ABC would implement these methods for each specific shape.\n",
    "\"\"\""
   ]
  },
  {
   "cell_type": "code",
   "execution_count": null,
   "id": "9403460c-d030-402e-969f-6e4aa5486814",
   "metadata": {},
   "outputs": [],
   "source": [
    "#Q4. How can we achieve data abstraction?\n",
    "\n",
    "\"\"\"1 By Encapsulation \n",
    "   2 By Abstarct Data type (ADTs)\n",
    "   3 By Interface and modules \"\"\"\n",
    "\n",
    "# Detailed Explanation\n",
    "\n",
    "\"\"\"\n",
    "1 Encapsulation: \n",
    "Encapsulation is a key feature of object-oriented programming (OOP) that involves wrapping data and behavior within an object and hiding it from the outside world. Objects can only access and modify their internal state through the methods provided by the class, abstracting the implementation details from the user.\n",
    "\"\"\"\n",
    "\n",
    "\"\"\" \n",
    "2 Abstarct Data Types (ADTs):\n",
    " An Abstract Data Type (ADT) is a data type that is defined in terms of its behavior (operations) rather than its implementation. ADTs provide a high-level, abstract interface for data structures, hiding the implementation details and allowing objects of different data types to be used interchangeably.\n",
    "\"\"\"\n",
    "\"\"\"\n",
    "3 Interfaces: \n",
    " An interface is a contract that defines a set of methods that a class must implement. Interfaces provide a way to define a common interface for a group of related classes, abstracting the implementation details and allowing objects of different classes to be used interchangeably.\n",
    " \"\"\"\""
   ]
  },
  {
   "cell_type": "code",
   "execution_count": null,
   "id": "f89af448-49df-443e-a0e1-9e3016fc6a03",
   "metadata": {},
   "outputs": [],
   "source": [
    "#Q5. Can we create an instance of an abstract class? Explain your answer.\n",
    "\n",
    "\"\"\"\n",
    "No, you cannot create an instance of an abstract class directly.\n",
    "An abstract class is a base class that defines a common interface for its derived classes but cannot be instantiated itself. \n",
    "The purpose of an abstract class is to provide a blueprint for its derived classes to follow and implement, but not to be used as a stand-alone object.\"\"\"\n",
    "\n"
   ]
  }
 ],
 "metadata": {
  "kernelspec": {
   "display_name": "Python 3 (ipykernel)",
   "language": "python",
   "name": "python3"
  },
  "language_info": {
   "codemirror_mode": {
    "name": "ipython",
    "version": 3
   },
   "file_extension": ".py",
   "mimetype": "text/x-python",
   "name": "python",
   "nbconvert_exporter": "python",
   "pygments_lexer": "ipython3",
   "version": "3.10.8"
  }
 },
 "nbformat": 4,
 "nbformat_minor": 5
}
