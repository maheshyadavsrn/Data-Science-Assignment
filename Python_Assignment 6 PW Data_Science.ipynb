{
 "cells": [
  {
   "cell_type": "code",
   "execution_count": 4,
   "id": "ce28b6ac-2e56-4fe6-a3a5-9a740cfda344",
   "metadata": {},
   "outputs": [
    {
     "name": "stdin",
     "output_type": "stream",
     "text": [
      "Enter the Percentage 99\n"
     ]
    },
    {
     "name": "stdout",
     "output_type": "stream",
     "text": [
      "A\n"
     ]
    }
   ],
   "source": [
    "#1 Question\n",
    "marks=int(input(\"Enter the Percentage\"))\n",
    "if marks>90:\n",
    "    print(\"A\")\n",
    "elif marks>80 and marks<=90:\n",
    "    print(\"B\")\n",
    "elif marks>=60 and marks<=80:\n",
    "    print(\"C\")\n",
    "else:\n",
    "    print(\"D\")"
   ]
  },
  {
   "cell_type": "code",
   "execution_count": 14,
   "id": "d7c05cab-2b36-47df-bd9b-96a2f0e6c7e7",
   "metadata": {},
   "outputs": [
    {
     "name": "stdin",
     "output_type": "stream",
     "text": [
      "Enter Your Cost Price of a Bike 50000\n"
     ]
    },
    {
     "name": "stdout",
     "output_type": "stream",
     "text": [
      "Your Road Tax is 5%\n"
     ]
    }
   ],
   "source": [
    "#2 Question\n",
    "price=int(input(\"Enter Your Cost Price of a Bike\"))\n",
    "if price>100000:\n",
    "    print(\"Your Road Tax is 15%\")\n",
    "elif price>50000 and price<=100000:\n",
    "    print(\"Your Road Task is 10%\")\n",
    "else : \n",
    "    print(\"Your Road Tax is 5%\")\n",
    "\n",
    "    "
   ]
  },
  {
   "cell_type": "code",
   "execution_count": 6,
   "id": "99bc97b3-fe38-43a3-9891-766ffff2d644",
   "metadata": {},
   "outputs": [
    {
     "name": "stdin",
     "output_type": "stream",
     "text": [
      "Enter the name of city to check Monuments  Agra\n"
     ]
    },
    {
     "name": "stdout",
     "output_type": "stream",
     "text": [
      "Taj Mahal in ,Agra\n"
     ]
    }
   ],
   "source": [
    " #Q3.  Accept any city from user and display monumant of that city .\n",
    "\n",
    "\n",
    "city = input(\"Enter the name of city to check Monuments \")\n",
    "\n",
    "if(city == \"Delhi\"):\n",
    "    print(\"Red Fort in ,\"+city)\n",
    "elif(city == \"Agra\"):\n",
    "    print(\"Taj Mahal in ,\"+city)\n",
    "elif(city == \"Jaipur\"):\n",
    "    print(\"Jal Mahal in ,\"+city)"
   ]
  },
  {
   "cell_type": "code",
   "execution_count": 13,
   "id": "70a2ce38-1969-4b0a-8bcd-dd34c52bf909",
   "metadata": {},
   "outputs": [
    {
     "data": {
      "text/plain": [
       "2"
      ]
     },
     "execution_count": 13,
     "metadata": {},
     "output_type": "execute_result"
    }
   ],
   "source": [
    "# Q4. Check how many times a given number can be divided by 3 before it is less than or equal to 10.\n",
    "\n",
    "# Answer4 \n",
    "def divide(original_number):\n",
    "    count = 0\n",
    "    num = original_number\n",
    "    while num > 10:\n",
    "        num = num / 3\n",
    "        count += 1\n",
    "    return count\n",
    "\n",
    "\n",
    "divide(45)"
   ]
  },
  {
   "cell_type": "code",
   "execution_count": 14,
   "id": "ef26ef53-4c9f-4079-b6a6-1fc128d1a054",
   "metadata": {},
   "outputs": [
    {
     "name": "stdout",
     "output_type": "stream",
     "text": [
      "1\n",
      "2\n",
      "3\n",
      "4\n",
      "5\n"
     ]
    }
   ],
   "source": [
    "# Q5. Why and When to use While Loop in Python give a detailed description with example.\n",
    "\n",
    "'''Ans5. The while loop in Python is used to repeatedly execute a block of code as long as a certain         condition is met. The general syntax for a while loop is: \n",
    "\n",
    "<!--    syntax : -->\n",
    "while condition:\n",
    "    # code to be executed\n",
    "    \n",
    "    \n",
    "Here, \"condition\" is a \"boolean expression\" that evaluates to either True or False. \n",
    "  \n",
    "If the condition is True, the code inside the loop is executed. The loop continues to run until the condition becomes False\n",
    "\n",
    "\n",
    "# example of the while lopp'''\n",
    "count = 1\n",
    "while count <= 5:\n",
    "    print(count)\n",
    "    count += 1"
   ]
  },
  {
   "cell_type": "code",
   "execution_count": 4,
   "id": "b7c332df-616c-48fd-a2fd-93c82fb7f6a9",
   "metadata": {},
   "outputs": [
    {
     "name": "stdout",
     "output_type": "stream",
     "text": [
      "1 \n",
      "3 3 \n",
      "5 5 5 \n",
      "7 7 7 7 \n",
      "9 9 9 9 9 \n"
     ]
    },
    {
     "name": "stdin",
     "output_type": "stream",
     "text": [
      "Enter the number of rows:  5\n"
     ]
    },
    {
     "name": "stdout",
     "output_type": "stream",
     "text": [
      "* \n",
      "* * \n",
      "* * * \n",
      "* * * * \n",
      "* * * * * \n",
      "1 \n",
      "1 2 \n",
      "1 2 3 \n",
      "1 2 3 4 \n",
      "1 2 3 4 5 \n"
     ]
    }
   ],
   "source": [
    "# Q6 Use nested While loop to print 3 different pattern\n",
    "\n",
    "#Number pattern_1\n",
    "rows1 = 5\n",
    "a = 1\n",
    "while a <= rows1:\n",
    "    b = 1\n",
    "    while b <= a:\n",
    "        print((a * 2 - 1), end=\" \")\n",
    "        b = b + 1\n",
    "    a = a + 1\n",
    "    print('')\n",
    "    \n",
    "    #Patter_2\n",
    " \n",
    "rows = int(input(\"Enter the number of rows: \"))\n",
    "i = 0\n",
    "while i < rows:\n",
    "    j = 0\n",
    "    while j <= i:\n",
    "        print(\"*\", end=' ')\n",
    "        j += 1\n",
    "    print(\"\\r\")\n",
    "    i += 1\n",
    "    \n",
    "    #pattern_3\n",
    "i=1\n",
    "while i<=5:\n",
    "    j=1\n",
    "    while j<=i:\n",
    "        print(j,end=\" \")\n",
    "        j=j+1\n",
    "    print(\"\")\n",
    "    i=i+1"
   ]
  },
  {
   "cell_type": "code",
   "execution_count": 6,
   "id": "0b69fe39-b504-43f0-86c5-50542a6cacb4",
   "metadata": {},
   "outputs": [
    {
     "name": "stdout",
     "output_type": "stream",
     "text": [
      "10\n",
      "9\n",
      "8\n",
      "7\n",
      "6\n",
      "5\n",
      "4\n",
      "3\n",
      "2\n",
      "1\n"
     ]
    }
   ],
   "source": [
    "# Q7 Reverse a while loop to display number from the 10 to 1 \n",
    "\n",
    "\n",
    "i = 10\n",
    "# initialize i \n",
    "while i > 0:\n",
    "    \n",
    "    print(i)\n",
    "    \n",
    "    i -= 1"
   ]
  },
  {
   "cell_type": "code",
   "execution_count": 7,
   "id": "f049769d-3907-42a3-b86b-8f5fcb6cf829",
   "metadata": {},
   "outputs": [
    {
     "name": "stdout",
     "output_type": "stream",
     "text": [
      "10\n",
      "9\n",
      "8\n",
      "7\n",
      "6\n",
      "5\n",
      "4\n",
      "3\n",
      "2\n",
      "1\n"
     ]
    }
   ],
   "source": [
    "# Q8 Reverse a while loop to display number from the 10 to 1 \n",
    "\n",
    "\n",
    "i = 10\n",
    "\n",
    "while i > 0:\n",
    "    \n",
    "    print(i)\n",
    "    \n",
    "    i -= 1"
   ]
  },
  {
   "cell_type": "code",
   "execution_count": null,
   "id": "5afdff79-0af5-4de2-88b9-3ae76ddc9e91",
   "metadata": {},
   "outputs": [],
   "source": []
  }
 ],
 "metadata": {
  "kernelspec": {
   "display_name": "Python 3 (ipykernel)",
   "language": "python",
   "name": "python3"
  },
  "language_info": {
   "codemirror_mode": {
    "name": "ipython",
    "version": 3
   },
   "file_extension": ".py",
   "mimetype": "text/x-python",
   "name": "python",
   "nbconvert_exporter": "python",
   "pygments_lexer": "ipython3",
   "version": "3.10.8"
  }
 },
 "nbformat": 4,
 "nbformat_minor": 5
}
