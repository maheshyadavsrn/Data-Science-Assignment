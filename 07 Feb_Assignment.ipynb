{
 "cells": [
  {
   "cell_type": "code",
   "execution_count": 2,
   "id": "6cab68bd-4885-45ab-8afb-5e32b8f8b4c1",
   "metadata": {},
   "outputs": [
    {
     "name": "stdin",
     "output_type": "stream",
     "text": [
      "Enter the passsword to check validity 12345\n"
     ]
    },
    {
     "name": "stdout",
     "output_type": "stream",
     "text": [
      "Invalid Password\n"
     ]
    }
   ],
   "source": [
    "\"\"\"Q1. You are writing code for a company. The requirement of the company is that you create a python\n",
    "function that will check whether the password entered by the user is correct or not. The function should\n",
    "take the password as input and return the string “Valid Password” if the entered password follows the\n",
    "below-given password guidelines else it should return “Invalid Password”.\n",
    "Note: 1. The Password should contain at least two uppercase letters and at least two lowercase letters.\n",
    "2. The Password should contain at least a number and three special characters.\n",
    "3. The length of the password should be 10 characters long.\"\"\"\n",
    "def check(password):\n",
    "    \n",
    "    upper =0\n",
    "    lower=0\n",
    "    digit=0\n",
    "    special_character =0\n",
    "    \n",
    "    for i in password:\n",
    "        \n",
    "        if(i.isalpha()):\n",
    "            if(i.islower()):                   \n",
    "                    lower+=1             \n",
    "            else:      \n",
    "                upper+=1\n",
    "        elif(i.isdigit()):\n",
    "            digit+=1      \n",
    "        else:\n",
    "            special_character+=1\n",
    "                      \n",
    " \n",
    "    if(len(password)>= 10 and lower>=2 and upper>=2 and digit>=1 and special_character>=3):\n",
    "        return \"Valid Password\"\n",
    "        \n",
    "    else:\n",
    "        return\"Invalid Password\"\n",
    "    \n",
    "\n",
    "    \n",
    " #driver function \n",
    "password1 = str(input(\"Enter the passsword to check validity\"))\n",
    "\n",
    "print(check(password1))\n"
   ]
  },
  {
   "cell_type": "code",
   "execution_count": 3,
   "id": "1ab4a969-bbc0-459a-ab72-05bbf7fdbb50",
   "metadata": {},
   "outputs": [
    {
     "name": "stdin",
     "output_type": "stream",
     "text": [
      "Enter the starting character:  mahesh\n",
      "Enter the string:  yadav\n"
     ]
    },
    {
     "name": "stdout",
     "output_type": "stream",
     "text": [
      "False\n"
     ]
    }
   ],
   "source": [
    "#Q2. Solve the below-given questions using at least one of the following:\n",
    "#1. Check if the string starts with a particular letter\n",
    "is_start = lambda x,y : x.startswith(y)\n",
    "\n",
    "start_char=input(\"Enter the starting character: \")\n",
    "input_str=input(\"Enter the string: \")\n",
    "print(is_start(input_str,start_char))\n"
   ]
  },
  {
   "cell_type": "code",
   "execution_count": 4,
   "id": "9abb2fb0-c904-481f-a19a-1119e1ff625c",
   "metadata": {},
   "outputs": [
    {
     "name": "stdin",
     "output_type": "stream",
     "text": [
      "Enter the string zxy\n"
     ]
    },
    {
     "name": "stdout",
     "output_type": "stream",
     "text": [
      "False\n"
     ]
    }
   ],
   "source": [
    "#2(b)\n",
    "is_numeric = lambda x: x.isnumeric()\n",
    "\n",
    "str = input(\"Enter the string\")\n",
    "print(is_numeric(str))"
   ]
  },
  {
   "cell_type": "code",
   "execution_count": 5,
   "id": "c463cf7c-b48b-415a-9344-2e2f7a82bccc",
   "metadata": {},
   "outputs": [
    {
     "name": "stdout",
     "output_type": "stream",
     "text": [
      "[('orange', 80), ('mango', 99), ('grapes', 1000)]\n"
     ]
    }
   ],
   "source": [
    "#2(c)\n",
    "\n",
    "list1 = [(\"mango\",99),(\"orange\",80), (\"grapes\", 1000)]\n",
    "\n",
    "sorted_list = sorted(list1, key=lambda x: x[1])\n",
    "print(sorted_list)"
   ]
  },
  {
   "cell_type": "code",
   "execution_count": 6,
   "id": "0262f471-abc6-43aa-9bba-f5ca628ab014",
   "metadata": {},
   "outputs": [
    {
     "name": "stdout",
     "output_type": "stream",
     "text": [
      "[1, 4, 9, 16, 25, 36, 49, 64, 81, 100]\n"
     ]
    }
   ],
   "source": [
    "# Anser2 -->d\n",
    "# using the list Comprehension\n",
    "square = [i*i for i in range(1,11)]\n",
    "\n",
    "print(square)"
   ]
  },
  {
   "cell_type": "code",
   "execution_count": 7,
   "id": "f620d22e-aa33-4f92-bc67-6e9d34f8086f",
   "metadata": {},
   "outputs": [
    {
     "name": "stdout",
     "output_type": "stream",
     "text": [
      "[1.0, 1.26, 1.44, 1.59, 1.71, 1.82, 1.91, 2.0, 2.08, 2.15]\n"
     ]
    }
   ],
   "source": [
    "# Answer2-->e\n",
    "# using the list Comprehension \n",
    "\n",
    "cube_root = [round(i**(1/3),2) for i in range(1,11)]\n",
    "print(cube_root)"
   ]
  },
  {
   "cell_type": "code",
   "execution_count": 9,
   "id": "ef7b318f-6961-4b3f-a5dd-eaee7c9dc49e",
   "metadata": {},
   "outputs": [
    {
     "name": "stdin",
     "output_type": "stream",
     "text": [
      "Enter the number to check 20\n"
     ]
    },
    {
     "name": "stdout",
     "output_type": "stream",
     "text": [
      "True\n"
     ]
    }
   ],
   "source": [
    "# Answer 2--f\n",
    "\n",
    "is_even = lambda n :n%2==0\n",
    "inp_number = int(input(\"Enter the number to check\"))\n",
    "print(is_even(inp_number))"
   ]
  },
  {
   "cell_type": "code",
   "execution_count": 10,
   "id": "b609f43d-2105-4f02-b8f2-c7a943831f85",
   "metadata": {},
   "outputs": [
    {
     "data": {
      "text/plain": [
       "[1, 3, 5, 7, 9]"
      ]
     },
     "execution_count": 10,
     "metadata": {},
     "output_type": "execute_result"
    }
   ],
   "source": [
    "# Answer2-->g\n",
    "# Filter odd numbers from the given list. using the filter \n",
    "\n",
    "\"\"\" Filter by filter function and lambda function \"\"\"\n",
    "\n",
    "l =[1,2,3,4,5,6,7,8,9,10]\n",
    "\n",
    "#using the filter with lambda funtion\n",
    "\n",
    "list(filter(lambda x :x%2!=0 ,l))"
   ]
  },
  {
   "cell_type": "code",
   "execution_count": 11,
   "id": "008265c8-c315-4cb5-850a-5466d7c724b6",
   "metadata": {},
   "outputs": [
    {
     "name": "stdout",
     "output_type": "stream",
     "text": [
      "Positive Numbers: [1, 2, 3, 4, 5, 6]\n",
      "Negative Numbers: [-1, -2, -3, -4, -5]\n"
     ]
    }
   ],
   "source": [
    "# Answer-->2(h)\n",
    "\n",
    "list_1 = [1,2,3,4,5,6,-1,-2,-3,-4,-5,0]\n",
    "\n",
    "pos = list(filter(lambda x: x > 0, list_1))\n",
    "neg = list(filter(lambda x: x < 0, list_1))\n",
    "print(\"Positive Numbers:\", pos)\n",
    "print(\"Negative Numbers:\", neg)"
   ]
  },
  {
   "cell_type": "code",
   "execution_count": null,
   "id": "73901d5d-46c6-44fe-a227-1630f59477d4",
   "metadata": {},
   "outputs": [],
   "source": []
  }
 ],
 "metadata": {
  "kernelspec": {
   "display_name": "Python 3 (ipykernel)",
   "language": "python",
   "name": "python3"
  },
  "language_info": {
   "codemirror_mode": {
    "name": "ipython",
    "version": 3
   },
   "file_extension": ".py",
   "mimetype": "text/x-python",
   "name": "python",
   "nbconvert_exporter": "python",
   "pygments_lexer": "ipython3",
   "version": "3.10.8"
  }
 },
 "nbformat": 4,
 "nbformat_minor": 5
}
