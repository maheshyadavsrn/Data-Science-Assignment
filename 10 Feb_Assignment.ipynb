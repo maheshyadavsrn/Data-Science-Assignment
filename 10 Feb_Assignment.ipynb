{
 "cells": [
  {
   "cell_type": "code",
   "execution_count": null,
   "id": "5bb667c5-6757-4648-a77e-59c908f6956e",
   "metadata": {},
   "outputs": [],
   "source": [
    "\"\"\"Q1. Which function is used to open a file? What are the different modes of opening a file? Explain each mode\n",
    "of file opening.\"\"\"\n",
    "\n",
    "\n",
    "import logging  \n",
    "# we are creating a test.log file for the purpose of investigation the ocde further\n",
    "\n",
    "\"\"\"\n",
    "open() function is used to  open the file  \"\"\"\n",
    "\n",
    "#  General Syntax  for the openingn the file\n",
    "\"\"\"\n",
    "f = open(\"file_Name\", mode)\n",
    "\n",
    "\"\"\"\n",
    "\"\"\" There are  Different modes of the opening the file and their explanation \"\"\"\n",
    "\n",
    "# for example read ,write,append, text,,binary,...etc \n",
    "\n",
    "\"\"\"\n",
    "All modes are explained in detail below\n",
    "\n",
    "'r'       open for reading (default)\n",
    "'w'       open for writing, truncating the file first\n",
    "'x'       create a new file and open it for writing\n",
    "'a'       open for writing, appending to the end of the file if it exists\n",
    "'b'       binary mode\n",
    "'t'       text mode (default) or for jason format \n",
    "'+'       open a disk file for updating (reading and writing)\n",
    "'U'       universal newline mode (deprecated)\n",
    "\n",
    "\"\"\"\n",
    "\n",
    "# For example:\n",
    "logging.basicConfig(filename = \"test1.log\" , level =logging.DEBUG , format = '%(asctime)s %(message)s' )\n",
    "logging.info(\" we open a file in write mode \")\n",
    "\n",
    "f =open(\"test.txt\" ,\"w\")  # \n",
    "\n",
    "f.write(\"HELlo first file txt file is created \") # we are editing the file i;e write someething in the file\n",
    "\n",
    "f.close()  # finally we close the file \n",
    "\n",
    "# explanation :\n"
   ]
  },
  {
   "cell_type": "code",
   "execution_count": null,
   "id": "5670cf86-4a48-46b5-a289-b8ab8da6221e",
   "metadata": {},
   "outputs": [],
   "source": [
    "#Q2. Why close() function is used? Why is it important to close a file?\n",
    "\n",
    "\"\"\"\" \n",
    "1 The close() function is used to close a file in Python. When a file is opened using the open() function, a file handle is created that allows the program to read from or write to the file. When you are finished working with the file, it is important to close the file handle to free up resources and prevent any potential issues.\n",
    "\"\"\"\n",
    "# close a file is used because of the folloowing the reasons\n",
    "\"\"\"\n",
    "1 close function is used to close the file after opening and performing the operations\n",
    "2 Closing a file also ensures that any changes made to the file during the session are saved and that the file is properly stored on disk. \n",
    "3 he close() method is especially important when working with large files, as these files can consume a significant amount of system resources.\n",
    "\"\"\"\n",
    "\n",
    "# For example :\n",
    "logging.info(\" we open a file in write mode\") # suing the logging \n",
    "\n",
    "f =open(\"test.txt\" ,\"w\")  # we open a file in write mode \n",
    "f.write(\"HELlo first file txt file is created \") # we are editing the file i;e write someething in the file\n",
    "\n",
    "logging.info(\"after performing the opearations to the file \") # using logging the file\n",
    "\n",
    "f.close()  # . finally we close the file \n",
    "logging.shutdown()"
   ]
  },
  {
   "cell_type": "code",
   "execution_count": 1,
   "id": "bfc4475c-5c62-4719-89e9-caaf47664c02",
   "metadata": {},
   "outputs": [
    {
     "name": "stdout",
     "output_type": "stream",
     "text": [
      "‘I want to become a Data Scientist \n"
     ]
    }
   ],
   "source": [
    "\"\"\"Q3. Write a python program to create a text file. Write ‘I want to become a Data Scientist’ in that file. Then\n",
    "close the file. Open this file and read the content of the file.\"\"\"\n",
    "\n",
    "import logging # for using the logging\n",
    "\n",
    "#creating the file in write mode\n",
    "\n",
    "f= open(\"file.txt\",\"w\")\n",
    "\n",
    "logging.basicConfig(filename = \"test1.log\" , level =logging.DEBUG , format = '%(asctime)s %(message)s' ) #using the loggigng\n",
    "f.write(\"‘I want to become a Data Scientist \")\n",
    "logging.info(\"clsong the file\") # using the logging\n",
    "\n",
    "f.close()\n",
    "\n",
    "\n",
    "\n",
    "# opening the file and reading the content/statement of the file \n",
    "\n",
    "f =open(\"file.txt\",\"r\") # opening the file in read mode \n",
    "\n",
    "content_of_file= f.read()  # reading the file \n",
    "\n",
    "print(content_of_file)"
   ]
  },
  {
   "cell_type": "code",
   "execution_count": 2,
   "id": "e0c20d01-53ef-46ac-8e6c-5511649cbf4f",
   "metadata": {},
   "outputs": [
    {
     "name": "stdout",
     "output_type": "stream",
     "text": [
      "‘I want to become a Data Scientist \n",
      "‘I want to become a Data Scientist \n",
      "['‘I want to become a Data Scientist ']\n"
     ]
    }
   ],
   "source": [
    "#Q4. Explain the following with python code: read(), readline() and readlines().\n",
    "\n",
    "\"\"\"\n",
    "read():  is used to read the whole content(entire content). \"\"\"\n",
    "\n",
    "# Example of the read\n",
    "\n",
    "with open(\"file.txt\", \"r\") as f:\n",
    "    contents = f.read()\n",
    "    print(contents)\n",
    "\n",
    "# 2 readlines() : read line by line\n",
    "\"\"\"\n",
    "is used to read a single line from the file. \n",
    "It returns the line as a string and moves the file cursor to the next line \"\"\"\n",
    "\n",
    "# example of the readline\n",
    "\n",
    "with open(\"file.txt\", \"r\") as f:\n",
    "    # read the content line by line\n",
    "    contents = f.readline() \n",
    "    # using the loop  its depend on you \n",
    "    for i in contents:\n",
    "            print(contents)\n",
    "            break\n",
    "            \n",
    "            \n",
    "# 3 readlines() is used to read all lines of a file \n",
    "\"\"\"\n",
    "     \n",
    " is used to read all the lines of a file and return them as a list of strings, where each string is a line of the file \"\"\"\n",
    "\n",
    "# example off readlines()\n",
    "with open(\"file.txt\", \"r\") as f:\n",
    "    \n",
    "    logging.info(\"Read All lines  \") # using the logging \n",
    "    \n",
    "    contents = f.readlines() \n",
    "    \n",
    "    # using the loop  its depend on you \n",
    "    for i in contents:\n",
    "            print(contents)"
   ]
  },
  {
   "cell_type": "code",
   "execution_count": null,
   "id": "a0f36ec9-9a2b-49d5-bf39-7fd5cb7ded0b",
   "metadata": {},
   "outputs": [],
   "source": [
    "\"\"\"Q5. Explain why with statement is used with open(). What is the advantage of using with statement and\n",
    "open() together?\"\"\"\n",
    "\n",
    "\n",
    "\"\"\"\n",
    "The with statement is used with open() \n",
    "\"\"\"\n",
    "# Advantages of with statements  and open statement together \n",
    "\"\"\"\n",
    "1 The\" with\" statement is used in combination with the open() function in Python to provide a convenient and safe way to work with files.\n",
    "2 The with statement creates a context in which a file is automatically closed after the block of code inside the with statement is executed, even if an exception is raised.\n",
    "3 Using the with statement ensures that the file handle is \n",
    "\"\"\"\n",
    "\n",
    "# for example\n",
    "\n",
    "with open(\"file.txt\", \"r\") as f:\n",
    "    # read the content line by line\n",
    "    contents = f.readline() \n",
    "    # using the loop  its depend on you \n",
    "    for i in contents:\n",
    "            print(contents)\n",
    "            break"
   ]
  },
  {
   "cell_type": "code",
   "execution_count": 6,
   "id": "45768038-daa0-4a0a-a865-c46a7c8e496d",
   "metadata": {},
   "outputs": [
    {
     "name": "stdin",
     "output_type": "stream",
     "text": [
      "Enter the name of the employee:  mahesh\n",
      "Enter the name of the employee:  aman\n"
     ]
    },
    {
     "name": "stdout",
     "output_type": "stream",
     "text": [
      "Data is written into the file.\n"
     ]
    },
    {
     "name": "stdin",
     "output_type": "stream",
     "text": [
      "Enter the name of the employee:  ankit\n"
     ]
    },
    {
     "name": "stdout",
     "output_type": "stream",
     "text": [
      "Data is written into the file.\n"
     ]
    }
   ],
   "source": [
    "#Q6. Explain the write() and writelines() functions. Give a suitable example.\n",
    "\n",
    "\"\"\"write() function\n",
    "The write() function will write the content in the file without adding any extra characters.\n",
    "\n",
    "Syntax: \n",
    "\n",
    "# Writes string content referenced by file object.\n",
    "file_name.write(content) \n",
    "As per the syntax, the string that is passed to the write() function is written into the opened file. The string may include numbers, special characters, or symbols. While writing\n",
    "data to a file, we must know that the write function does not add a newline character(\\n) to the end of the string. The write() function returns None.\"\"\"\n",
    "\n",
    "file = open(\"Employees.txt\", \"w\")\n",
    "  \n",
    "for i in range(2):\n",
    "   name = input(\"Enter the name of the employee: \")\n",
    "   file.write(name)\n",
    "   file.write(\"\\n\")\n",
    "     \n",
    "file.close()\n",
    "  \n",
    "print(\"Data is written into the file.\")\n",
    "\n",
    "\n",
    "\n",
    "\"\"\"writelines() function\n",
    "This function writes the content of a list to a file.\n",
    "\n",
    "Syntax:   \n",
    "\n",
    "# write all the strings present in the list \"list_of_lines\" \n",
    "# referenced by file object.\n",
    "file_name.writelines(list_of_lines)\n",
    "As per the syntax, the list of strings that is passed to the writelines() function is written into the opened file. Similar to the write() function, the writelines() function does not add a newline character(\\n) to the end of the string.\"\"\"\n",
    "\n",
    "file1 = open(\"Employees.txt\", \"w\")\n",
    "lst = []\n",
    "for i in range(1):\n",
    "    name = input(\"Enter the name of the employee: \")\n",
    "    lst.append(name + '\\n')\n",
    "      \n",
    "file1.writelines(lst)\n",
    "file1.close()\n",
    "print(\"Data is written into the file.\") "
   ]
  },
  {
   "cell_type": "code",
   "execution_count": null,
   "id": "5ee0de3c-52d8-4c84-95b1-ed4d5e7aed0e",
   "metadata": {},
   "outputs": [],
   "source": []
  }
 ],
 "metadata": {
  "kernelspec": {
   "display_name": "Python 3 (ipykernel)",
   "language": "python",
   "name": "python3"
  },
  "language_info": {
   "codemirror_mode": {
    "name": "ipython",
    "version": 3
   },
   "file_extension": ".py",
   "mimetype": "text/x-python",
   "name": "python",
   "nbconvert_exporter": "python",
   "pygments_lexer": "ipython3",
   "version": "3.10.8"
  }
 },
 "nbformat": 4,
 "nbformat_minor": 5
}
